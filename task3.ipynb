{
 "cells": [
  {
   "cell_type": "code",
   "execution_count": 3,
   "id": "9c822517",
   "metadata": {},
   "outputs": [],
   "source": [
    "import numpy as np\n",
    "import pandas as pd\n",
    "import matplotlib.pyplot as plt\n",
    "import joblib\n",
    "\n",
    "import torch\n",
    "import time\n",
    "from torch import nn\n",
    "import torch.nn as nn\n",
    "import torch.nn.functional as F\n",
    "from torch.utils.data import Dataset\n",
    "from torch.utils.data import DataLoader, TensorDataset, random_split\n",
    "\n",
    "from scipy.io import wavfile as wav\n",
    "\n",
    "from sklearn import preprocessing\n",
    "from sklearn.model_selection import KFold\n",
    "from sklearn.model_selection import train_test_split\n",
    "\n",
    "from sklearn.metrics import f1_score, precision_score, recall_score, confusion_matrix\n",
    "\n",
    "\n"
   ]
  },
  {
   "cell_type": "code",
   "execution_count": 16,
   "id": "ea7d857e",
   "metadata": {},
   "outputs": [
    {
     "data": {
      "text/html": [
       "<div>\n",
       "<style scoped>\n",
       "    .dataframe tbody tr th:only-of-type {\n",
       "        vertical-align: middle;\n",
       "    }\n",
       "\n",
       "    .dataframe tbody tr th {\n",
       "        vertical-align: top;\n",
       "    }\n",
       "\n",
       "    .dataframe thead th {\n",
       "        text-align: right;\n",
       "    }\n",
       "</style>\n",
       "<table border=\"1\" class=\"dataframe\">\n",
       "  <thead>\n",
       "    <tr style=\"text-align: right;\">\n",
       "      <th></th>\n",
       "      <th>diagnosis</th>\n",
       "      <th>radius_mean</th>\n",
       "      <th>texture_mean</th>\n",
       "      <th>perimeter_mean</th>\n",
       "      <th>area_mean</th>\n",
       "      <th>smoothness_mean</th>\n",
       "      <th>compactness_mean</th>\n",
       "      <th>concavity_mean</th>\n",
       "      <th>concave points_mean</th>\n",
       "      <th>symmetry_mean</th>\n",
       "      <th>...</th>\n",
       "      <th>radius_worst</th>\n",
       "      <th>texture_worst</th>\n",
       "      <th>perimeter_worst</th>\n",
       "      <th>area_worst</th>\n",
       "      <th>smoothness_worst</th>\n",
       "      <th>compactness_worst</th>\n",
       "      <th>concavity_worst</th>\n",
       "      <th>concave points_worst</th>\n",
       "      <th>symmetry_worst</th>\n",
       "      <th>fractal_dimension_worst</th>\n",
       "    </tr>\n",
       "  </thead>\n",
       "  <tbody>\n",
       "    <tr>\n",
       "      <th>0</th>\n",
       "      <td>M</td>\n",
       "      <td>17.99</td>\n",
       "      <td>10.38</td>\n",
       "      <td>122.80</td>\n",
       "      <td>1001.0</td>\n",
       "      <td>0.11840</td>\n",
       "      <td>0.27760</td>\n",
       "      <td>0.3001</td>\n",
       "      <td>0.14710</td>\n",
       "      <td>0.2419</td>\n",
       "      <td>...</td>\n",
       "      <td>25.38</td>\n",
       "      <td>17.33</td>\n",
       "      <td>184.60</td>\n",
       "      <td>2019.0</td>\n",
       "      <td>0.1622</td>\n",
       "      <td>0.6656</td>\n",
       "      <td>0.7119</td>\n",
       "      <td>0.2654</td>\n",
       "      <td>0.4601</td>\n",
       "      <td>0.11890</td>\n",
       "    </tr>\n",
       "    <tr>\n",
       "      <th>1</th>\n",
       "      <td>M</td>\n",
       "      <td>20.57</td>\n",
       "      <td>17.77</td>\n",
       "      <td>132.90</td>\n",
       "      <td>1326.0</td>\n",
       "      <td>0.08474</td>\n",
       "      <td>0.07864</td>\n",
       "      <td>0.0869</td>\n",
       "      <td>0.07017</td>\n",
       "      <td>0.1812</td>\n",
       "      <td>...</td>\n",
       "      <td>24.99</td>\n",
       "      <td>23.41</td>\n",
       "      <td>158.80</td>\n",
       "      <td>1956.0</td>\n",
       "      <td>0.1238</td>\n",
       "      <td>0.1866</td>\n",
       "      <td>0.2416</td>\n",
       "      <td>0.1860</td>\n",
       "      <td>0.2750</td>\n",
       "      <td>0.08902</td>\n",
       "    </tr>\n",
       "    <tr>\n",
       "      <th>2</th>\n",
       "      <td>M</td>\n",
       "      <td>19.69</td>\n",
       "      <td>21.25</td>\n",
       "      <td>130.00</td>\n",
       "      <td>1203.0</td>\n",
       "      <td>0.10960</td>\n",
       "      <td>0.15990</td>\n",
       "      <td>0.1974</td>\n",
       "      <td>0.12790</td>\n",
       "      <td>0.2069</td>\n",
       "      <td>...</td>\n",
       "      <td>23.57</td>\n",
       "      <td>25.53</td>\n",
       "      <td>152.50</td>\n",
       "      <td>1709.0</td>\n",
       "      <td>0.1444</td>\n",
       "      <td>0.4245</td>\n",
       "      <td>0.4504</td>\n",
       "      <td>0.2430</td>\n",
       "      <td>0.3613</td>\n",
       "      <td>0.08758</td>\n",
       "    </tr>\n",
       "    <tr>\n",
       "      <th>3</th>\n",
       "      <td>M</td>\n",
       "      <td>11.42</td>\n",
       "      <td>20.38</td>\n",
       "      <td>77.58</td>\n",
       "      <td>386.1</td>\n",
       "      <td>0.14250</td>\n",
       "      <td>0.28390</td>\n",
       "      <td>0.2414</td>\n",
       "      <td>0.10520</td>\n",
       "      <td>0.2597</td>\n",
       "      <td>...</td>\n",
       "      <td>14.91</td>\n",
       "      <td>26.50</td>\n",
       "      <td>98.87</td>\n",
       "      <td>567.7</td>\n",
       "      <td>0.2098</td>\n",
       "      <td>0.8663</td>\n",
       "      <td>0.6869</td>\n",
       "      <td>0.2575</td>\n",
       "      <td>0.6638</td>\n",
       "      <td>0.17300</td>\n",
       "    </tr>\n",
       "    <tr>\n",
       "      <th>4</th>\n",
       "      <td>M</td>\n",
       "      <td>20.29</td>\n",
       "      <td>14.34</td>\n",
       "      <td>135.10</td>\n",
       "      <td>1297.0</td>\n",
       "      <td>0.10030</td>\n",
       "      <td>0.13280</td>\n",
       "      <td>0.1980</td>\n",
       "      <td>0.10430</td>\n",
       "      <td>0.1809</td>\n",
       "      <td>...</td>\n",
       "      <td>22.54</td>\n",
       "      <td>16.67</td>\n",
       "      <td>152.20</td>\n",
       "      <td>1575.0</td>\n",
       "      <td>0.1374</td>\n",
       "      <td>0.2050</td>\n",
       "      <td>0.4000</td>\n",
       "      <td>0.1625</td>\n",
       "      <td>0.2364</td>\n",
       "      <td>0.07678</td>\n",
       "    </tr>\n",
       "  </tbody>\n",
       "</table>\n",
       "<p>5 rows × 31 columns</p>\n",
       "</div>"
      ],
      "text/plain": [
       "  diagnosis  radius_mean  texture_mean  perimeter_mean  area_mean  \\\n",
       "0         M        17.99         10.38          122.80     1001.0   \n",
       "1         M        20.57         17.77          132.90     1326.0   \n",
       "2         M        19.69         21.25          130.00     1203.0   \n",
       "3         M        11.42         20.38           77.58      386.1   \n",
       "4         M        20.29         14.34          135.10     1297.0   \n",
       "\n",
       "   smoothness_mean  compactness_mean  concavity_mean  concave points_mean  \\\n",
       "0          0.11840           0.27760          0.3001              0.14710   \n",
       "1          0.08474           0.07864          0.0869              0.07017   \n",
       "2          0.10960           0.15990          0.1974              0.12790   \n",
       "3          0.14250           0.28390          0.2414              0.10520   \n",
       "4          0.10030           0.13280          0.1980              0.10430   \n",
       "\n",
       "   symmetry_mean  ...  radius_worst  texture_worst  perimeter_worst  \\\n",
       "0         0.2419  ...         25.38          17.33           184.60   \n",
       "1         0.1812  ...         24.99          23.41           158.80   \n",
       "2         0.2069  ...         23.57          25.53           152.50   \n",
       "3         0.2597  ...         14.91          26.50            98.87   \n",
       "4         0.1809  ...         22.54          16.67           152.20   \n",
       "\n",
       "   area_worst  smoothness_worst  compactness_worst  concavity_worst  \\\n",
       "0      2019.0            0.1622             0.6656           0.7119   \n",
       "1      1956.0            0.1238             0.1866           0.2416   \n",
       "2      1709.0            0.1444             0.4245           0.4504   \n",
       "3       567.7            0.2098             0.8663           0.6869   \n",
       "4      1575.0            0.1374             0.2050           0.4000   \n",
       "\n",
       "   concave points_worst  symmetry_worst  fractal_dimension_worst  \n",
       "0                0.2654          0.4601                  0.11890  \n",
       "1                0.1860          0.2750                  0.08902  \n",
       "2                0.2430          0.3613                  0.08758  \n",
       "3                0.2575          0.6638                  0.17300  \n",
       "4                0.1625          0.2364                  0.07678  \n",
       "\n",
       "[5 rows x 31 columns]"
      ]
     },
     "execution_count": 16,
     "metadata": {},
     "output_type": "execute_result"
    }
   ],
   "source": [
    "#data \n",
    "cancer_data = pd.read_csv(\"C:/Users/rhean/Documents/RHEANNE/Acads/Y4S1/SC4020/Project 2/Cancer_Data.csv\")\n",
    "cancer_data= cancer_data.drop(columns=[\"Unnamed: 32\", \"id\"], errors=\"ignore\")\n",
    "cancer_data.head()\n"
   ]
  },
  {
   "cell_type": "code",
   "execution_count": 57,
   "id": "47a9ffb4",
   "metadata": {},
   "outputs": [
    {
     "name": "stdout",
     "output_type": "stream",
     "text": [
      "<class 'pandas.core.frame.DataFrame'>\n",
      "RangeIndex: 569 entries, 0 to 568\n",
      "Data columns (total 31 columns):\n",
      " #   Column                   Non-Null Count  Dtype  \n",
      "---  ------                   --------------  -----  \n",
      " 0   diagnosis                569 non-null    object \n",
      " 1   radius_mean              569 non-null    float64\n",
      " 2   texture_mean             569 non-null    float64\n",
      " 3   perimeter_mean           569 non-null    float64\n",
      " 4   area_mean                569 non-null    float64\n",
      " 5   smoothness_mean          569 non-null    float64\n",
      " 6   compactness_mean         569 non-null    float64\n",
      " 7   concavity_mean           569 non-null    float64\n",
      " 8   concave points_mean      569 non-null    float64\n",
      " 9   symmetry_mean            569 non-null    float64\n",
      " 10  fractal_dimension_mean   569 non-null    float64\n",
      " 11  radius_se                569 non-null    float64\n",
      " 12  texture_se               569 non-null    float64\n",
      " 13  perimeter_se             569 non-null    float64\n",
      " 14  area_se                  569 non-null    float64\n",
      " 15  smoothness_se            569 non-null    float64\n",
      " 16  compactness_se           569 non-null    float64\n",
      " 17  concavity_se             569 non-null    float64\n",
      " 18  concave points_se        569 non-null    float64\n",
      " 19  symmetry_se              569 non-null    float64\n",
      " 20  fractal_dimension_se     569 non-null    float64\n",
      " 21  radius_worst             569 non-null    float64\n",
      " 22  texture_worst            569 non-null    float64\n",
      " 23  perimeter_worst          569 non-null    float64\n",
      " 24  area_worst               569 non-null    float64\n",
      " 25  smoothness_worst         569 non-null    float64\n",
      " 26  compactness_worst        569 non-null    float64\n",
      " 27  concavity_worst          569 non-null    float64\n",
      " 28  concave points_worst     569 non-null    float64\n",
      " 29  symmetry_worst           569 non-null    float64\n",
      " 30  fractal_dimension_worst  569 non-null    float64\n",
      "dtypes: float64(30), object(1)\n",
      "memory usage: 137.9+ KB\n"
     ]
    }
   ],
   "source": [
    "cancer_data.info()"
   ]
  },
  {
   "cell_type": "code",
   "execution_count": null,
   "id": "4e368194",
   "metadata": {},
   "outputs": [],
   "source": []
  },
  {
   "cell_type": "markdown",
   "id": "34ba791e",
   "metadata": {},
   "source": [
    "# Building B/M Cancer Prediction Model"
   ]
  },
  {
   "cell_type": "code",
   "execution_count": 17,
   "id": "b5f2e421",
   "metadata": {},
   "outputs": [],
   "source": [
    "# one hot, Benign:0, Malignant:1\n",
    "cancer_y = cancer_data[\"diagnosis\"].map({\"B\": 0, \"M\": 1})\n",
    "cancer_x = cancer_data.drop(\"diagnosis\", axis = 1)"
   ]
  },
  {
   "cell_type": "code",
   "execution_count": 59,
   "id": "34eba2d4",
   "metadata": {},
   "outputs": [
    {
     "data": {
      "text/html": [
       "<div>\n",
       "<style scoped>\n",
       "    .dataframe tbody tr th:only-of-type {\n",
       "        vertical-align: middle;\n",
       "    }\n",
       "\n",
       "    .dataframe tbody tr th {\n",
       "        vertical-align: top;\n",
       "    }\n",
       "\n",
       "    .dataframe thead th {\n",
       "        text-align: right;\n",
       "    }\n",
       "</style>\n",
       "<table border=\"1\" class=\"dataframe\">\n",
       "  <thead>\n",
       "    <tr style=\"text-align: right;\">\n",
       "      <th></th>\n",
       "      <th>radius_mean</th>\n",
       "      <th>texture_mean</th>\n",
       "      <th>perimeter_mean</th>\n",
       "      <th>area_mean</th>\n",
       "      <th>smoothness_mean</th>\n",
       "      <th>compactness_mean</th>\n",
       "      <th>concavity_mean</th>\n",
       "      <th>concave points_mean</th>\n",
       "      <th>symmetry_mean</th>\n",
       "      <th>fractal_dimension_mean</th>\n",
       "      <th>...</th>\n",
       "      <th>radius_worst</th>\n",
       "      <th>texture_worst</th>\n",
       "      <th>perimeter_worst</th>\n",
       "      <th>area_worst</th>\n",
       "      <th>smoothness_worst</th>\n",
       "      <th>compactness_worst</th>\n",
       "      <th>concavity_worst</th>\n",
       "      <th>concave points_worst</th>\n",
       "      <th>symmetry_worst</th>\n",
       "      <th>fractal_dimension_worst</th>\n",
       "    </tr>\n",
       "  </thead>\n",
       "  <tbody>\n",
       "    <tr>\n",
       "      <th>0</th>\n",
       "      <td>17.99</td>\n",
       "      <td>10.38</td>\n",
       "      <td>122.80</td>\n",
       "      <td>1001.0</td>\n",
       "      <td>0.11840</td>\n",
       "      <td>0.27760</td>\n",
       "      <td>0.3001</td>\n",
       "      <td>0.14710</td>\n",
       "      <td>0.2419</td>\n",
       "      <td>0.07871</td>\n",
       "      <td>...</td>\n",
       "      <td>25.38</td>\n",
       "      <td>17.33</td>\n",
       "      <td>184.60</td>\n",
       "      <td>2019.0</td>\n",
       "      <td>0.1622</td>\n",
       "      <td>0.6656</td>\n",
       "      <td>0.7119</td>\n",
       "      <td>0.2654</td>\n",
       "      <td>0.4601</td>\n",
       "      <td>0.11890</td>\n",
       "    </tr>\n",
       "    <tr>\n",
       "      <th>1</th>\n",
       "      <td>20.57</td>\n",
       "      <td>17.77</td>\n",
       "      <td>132.90</td>\n",
       "      <td>1326.0</td>\n",
       "      <td>0.08474</td>\n",
       "      <td>0.07864</td>\n",
       "      <td>0.0869</td>\n",
       "      <td>0.07017</td>\n",
       "      <td>0.1812</td>\n",
       "      <td>0.05667</td>\n",
       "      <td>...</td>\n",
       "      <td>24.99</td>\n",
       "      <td>23.41</td>\n",
       "      <td>158.80</td>\n",
       "      <td>1956.0</td>\n",
       "      <td>0.1238</td>\n",
       "      <td>0.1866</td>\n",
       "      <td>0.2416</td>\n",
       "      <td>0.1860</td>\n",
       "      <td>0.2750</td>\n",
       "      <td>0.08902</td>\n",
       "    </tr>\n",
       "    <tr>\n",
       "      <th>2</th>\n",
       "      <td>19.69</td>\n",
       "      <td>21.25</td>\n",
       "      <td>130.00</td>\n",
       "      <td>1203.0</td>\n",
       "      <td>0.10960</td>\n",
       "      <td>0.15990</td>\n",
       "      <td>0.1974</td>\n",
       "      <td>0.12790</td>\n",
       "      <td>0.2069</td>\n",
       "      <td>0.05999</td>\n",
       "      <td>...</td>\n",
       "      <td>23.57</td>\n",
       "      <td>25.53</td>\n",
       "      <td>152.50</td>\n",
       "      <td>1709.0</td>\n",
       "      <td>0.1444</td>\n",
       "      <td>0.4245</td>\n",
       "      <td>0.4504</td>\n",
       "      <td>0.2430</td>\n",
       "      <td>0.3613</td>\n",
       "      <td>0.08758</td>\n",
       "    </tr>\n",
       "    <tr>\n",
       "      <th>3</th>\n",
       "      <td>11.42</td>\n",
       "      <td>20.38</td>\n",
       "      <td>77.58</td>\n",
       "      <td>386.1</td>\n",
       "      <td>0.14250</td>\n",
       "      <td>0.28390</td>\n",
       "      <td>0.2414</td>\n",
       "      <td>0.10520</td>\n",
       "      <td>0.2597</td>\n",
       "      <td>0.09744</td>\n",
       "      <td>...</td>\n",
       "      <td>14.91</td>\n",
       "      <td>26.50</td>\n",
       "      <td>98.87</td>\n",
       "      <td>567.7</td>\n",
       "      <td>0.2098</td>\n",
       "      <td>0.8663</td>\n",
       "      <td>0.6869</td>\n",
       "      <td>0.2575</td>\n",
       "      <td>0.6638</td>\n",
       "      <td>0.17300</td>\n",
       "    </tr>\n",
       "    <tr>\n",
       "      <th>4</th>\n",
       "      <td>20.29</td>\n",
       "      <td>14.34</td>\n",
       "      <td>135.10</td>\n",
       "      <td>1297.0</td>\n",
       "      <td>0.10030</td>\n",
       "      <td>0.13280</td>\n",
       "      <td>0.1980</td>\n",
       "      <td>0.10430</td>\n",
       "      <td>0.1809</td>\n",
       "      <td>0.05883</td>\n",
       "      <td>...</td>\n",
       "      <td>22.54</td>\n",
       "      <td>16.67</td>\n",
       "      <td>152.20</td>\n",
       "      <td>1575.0</td>\n",
       "      <td>0.1374</td>\n",
       "      <td>0.2050</td>\n",
       "      <td>0.4000</td>\n",
       "      <td>0.1625</td>\n",
       "      <td>0.2364</td>\n",
       "      <td>0.07678</td>\n",
       "    </tr>\n",
       "  </tbody>\n",
       "</table>\n",
       "<p>5 rows × 30 columns</p>\n",
       "</div>"
      ],
      "text/plain": [
       "   radius_mean  texture_mean  perimeter_mean  area_mean  smoothness_mean  \\\n",
       "0        17.99         10.38          122.80     1001.0          0.11840   \n",
       "1        20.57         17.77          132.90     1326.0          0.08474   \n",
       "2        19.69         21.25          130.00     1203.0          0.10960   \n",
       "3        11.42         20.38           77.58      386.1          0.14250   \n",
       "4        20.29         14.34          135.10     1297.0          0.10030   \n",
       "\n",
       "   compactness_mean  concavity_mean  concave points_mean  symmetry_mean  \\\n",
       "0           0.27760          0.3001              0.14710         0.2419   \n",
       "1           0.07864          0.0869              0.07017         0.1812   \n",
       "2           0.15990          0.1974              0.12790         0.2069   \n",
       "3           0.28390          0.2414              0.10520         0.2597   \n",
       "4           0.13280          0.1980              0.10430         0.1809   \n",
       "\n",
       "   fractal_dimension_mean  ...  radius_worst  texture_worst  perimeter_worst  \\\n",
       "0                 0.07871  ...         25.38          17.33           184.60   \n",
       "1                 0.05667  ...         24.99          23.41           158.80   \n",
       "2                 0.05999  ...         23.57          25.53           152.50   \n",
       "3                 0.09744  ...         14.91          26.50            98.87   \n",
       "4                 0.05883  ...         22.54          16.67           152.20   \n",
       "\n",
       "   area_worst  smoothness_worst  compactness_worst  concavity_worst  \\\n",
       "0      2019.0            0.1622             0.6656           0.7119   \n",
       "1      1956.0            0.1238             0.1866           0.2416   \n",
       "2      1709.0            0.1444             0.4245           0.4504   \n",
       "3       567.7            0.2098             0.8663           0.6869   \n",
       "4      1575.0            0.1374             0.2050           0.4000   \n",
       "\n",
       "   concave points_worst  symmetry_worst  fractal_dimension_worst  \n",
       "0                0.2654          0.4601                  0.11890  \n",
       "1                0.1860          0.2750                  0.08902  \n",
       "2                0.2430          0.3613                  0.08758  \n",
       "3                0.2575          0.6638                  0.17300  \n",
       "4                0.1625          0.2364                  0.07678  \n",
       "\n",
       "[5 rows x 30 columns]"
      ]
     },
     "execution_count": 59,
     "metadata": {},
     "output_type": "execute_result"
    }
   ],
   "source": [
    "cancer_x.head()"
   ]
  },
  {
   "cell_type": "code",
   "execution_count": 60,
   "id": "096d55e0",
   "metadata": {},
   "outputs": [
    {
     "name": "stdout",
     "output_type": "stream",
     "text": [
      "<class 'pandas.core.frame.DataFrame'>\n",
      "RangeIndex: 569 entries, 0 to 568\n",
      "Data columns (total 30 columns):\n",
      " #   Column                   Non-Null Count  Dtype  \n",
      "---  ------                   --------------  -----  \n",
      " 0   radius_mean              569 non-null    float64\n",
      " 1   texture_mean             569 non-null    float64\n",
      " 2   perimeter_mean           569 non-null    float64\n",
      " 3   area_mean                569 non-null    float64\n",
      " 4   smoothness_mean          569 non-null    float64\n",
      " 5   compactness_mean         569 non-null    float64\n",
      " 6   concavity_mean           569 non-null    float64\n",
      " 7   concave points_mean      569 non-null    float64\n",
      " 8   symmetry_mean            569 non-null    float64\n",
      " 9   fractal_dimension_mean   569 non-null    float64\n",
      " 10  radius_se                569 non-null    float64\n",
      " 11  texture_se               569 non-null    float64\n",
      " 12  perimeter_se             569 non-null    float64\n",
      " 13  area_se                  569 non-null    float64\n",
      " 14  smoothness_se            569 non-null    float64\n",
      " 15  compactness_se           569 non-null    float64\n",
      " 16  concavity_se             569 non-null    float64\n",
      " 17  concave points_se        569 non-null    float64\n",
      " 18  symmetry_se              569 non-null    float64\n",
      " 19  fractal_dimension_se     569 non-null    float64\n",
      " 20  radius_worst             569 non-null    float64\n",
      " 21  texture_worst            569 non-null    float64\n",
      " 22  perimeter_worst          569 non-null    float64\n",
      " 23  area_worst               569 non-null    float64\n",
      " 24  smoothness_worst         569 non-null    float64\n",
      " 25  compactness_worst        569 non-null    float64\n",
      " 26  concavity_worst          569 non-null    float64\n",
      " 27  concave points_worst     569 non-null    float64\n",
      " 28  symmetry_worst           569 non-null    float64\n",
      " 29  fractal_dimension_worst  569 non-null    float64\n",
      "dtypes: float64(30)\n",
      "memory usage: 133.5 KB\n"
     ]
    }
   ],
   "source": [
    "cancer_x.info()"
   ]
  },
  {
   "cell_type": "code",
   "execution_count": null,
   "id": "006de4d3",
   "metadata": {},
   "outputs": [],
   "source": []
  },
  {
   "cell_type": "code",
   "execution_count": 18,
   "id": "c725ba17",
   "metadata": {},
   "outputs": [],
   "source": [
    "# split data into train test\n",
    "cancer_x_trainval, cancer_x_test, cancer_y_trainval, cancer_y_test = train_test_split(cancer_x, cancer_y, test_size=0.2, random_state=42,stratify=cancer_y)\n",
    "\n",
    "#within train val split again\n",
    "cancer_x_train, cancer_x_val, cancer_y_train, cancer_y_val = train_test_split(cancer_x_trainval, cancer_y_trainval, test_size=0.25, random_state=42, stratify=cancer_y_trainval)"
   ]
  },
  {
   "cell_type": "code",
   "execution_count": 19,
   "id": "60911875",
   "metadata": {},
   "outputs": [
    {
     "name": "stdout",
     "output_type": "stream",
     "text": [
      "Train: (341, 30) Val: (114, 30) Test: (114, 30)\n"
     ]
    }
   ],
   "source": [
    "#check\n",
    "print(\"Train:\", cancer_x_train.shape, \"Val:\", cancer_x_val.shape, \"Test:\", cancer_x_test.shape)\n"
   ]
  },
  {
   "cell_type": "code",
   "execution_count": 20,
   "id": "d43d94df",
   "metadata": {},
   "outputs": [],
   "source": [
    "# scale data\n",
    "from sklearn.preprocessing import StandardScaler\n",
    "scaler = StandardScaler()\n",
    "cancer_x_train = scaler.fit_transform(cancer_x_train)\n",
    "cancer_x_test = scaler.transform(cancer_x_test)\n",
    "cancer_x_val = scaler.transform(cancer_x_val)"
   ]
  },
  {
   "cell_type": "code",
   "execution_count": 64,
   "id": "498feb58",
   "metadata": {},
   "outputs": [
    {
     "data": {
      "text/plain": [
       "['cancer_scaler.joblib']"
      ]
     },
     "execution_count": 64,
     "metadata": {},
     "output_type": "execute_result"
    }
   ],
   "source": [
    "# save scaler\n",
    "joblib.dump(scaler, 'cancer_scaler.joblib')"
   ]
  },
  {
   "cell_type": "code",
   "execution_count": 21,
   "id": "b76f3140",
   "metadata": {},
   "outputs": [],
   "source": [
    "# Convert to torch tensors\n",
    "cancer_x_train_tensor = torch.tensor(cancer_x_train, dtype=torch.float32)\n",
    "cancer_y_train_tensor = torch.tensor(cancer_y_train, dtype=torch.float32).view(-1, 1)\n",
    "\n",
    "cancer_x_test_tensor = torch.tensor(cancer_x_test, dtype=torch.float32)\n",
    "cancer_y_test_tensor = torch.tensor(cancer_y_test.values, dtype=torch.float32).view(-1, 1)\n",
    "\n",
    "cancer_x_val_tensor = torch.tensor(cancer_x_val, dtype=torch.float32)\n",
    "cancer_y_val_tensor = torch.tensor(cancer_y_val.values, dtype=torch.float32).view(-1, 1)\n",
    "\n",
    "\n",
    "# Create datasets and loaders\n",
    "cancer_train_dataset = TensorDataset(cancer_x_train_tensor, cancer_y_train_tensor)\n",
    "cancer_test_dataset = TensorDataset(cancer_x_test_tensor, cancer_y_test_tensor)\n",
    "cancer_val_dataset = TensorDataset(cancer_x_val_tensor, cancer_y_val_tensor)\n",
    "\n",
    "cancer_train_loader = DataLoader(cancer_train_dataset, batch_size=16, shuffle=True)\n",
    "cancer_test_loader = DataLoader(cancer_test_dataset, batch_size=16, shuffle=False)\n",
    "cancer_val_loader = DataLoader(cancer_val_dataset, batch_size=16, shuffle=False)\n",
    "\n"
   ]
  },
  {
   "cell_type": "code",
   "execution_count": 66,
   "id": "627dd883",
   "metadata": {},
   "outputs": [],
   "source": [
    "class MLP(nn.Module):\n",
    "    \n",
    "    def __init__(self, input_dim):\n",
    "        super(MLP, self).__init__()\n",
    "        self.flatten = nn.Flatten()\n",
    "        self.linear_relu_stack = nn.Sequential(\n",
    "            nn.Linear(input_dim, 64),\n",
    "            nn.ReLU(),\n",
    "            nn.Dropout(0.5),\n",
    "            nn.Linear(64, 1),\n",
    "         \n",
    "            )\n",
    "\n",
    "    def forward(self, x):\n",
    "        x = self.flatten(x)\n",
    "        return self.linear_relu_stack(x)"
   ]
  },
  {
   "cell_type": "code",
   "execution_count": 67,
   "id": "74dd9e77",
   "metadata": {},
   "outputs": [],
   "source": [
    "# Instantiate model\n",
    "input_dim = cancer_x_train.shape[1]\n",
    "cancer_model = MLP(input_dim)"
   ]
  },
  {
   "cell_type": "code",
   "execution_count": 68,
   "id": "b26866c2",
   "metadata": {},
   "outputs": [
    {
     "name": "stdout",
     "output_type": "stream",
     "text": [
      "Epoch [1/30] Train Loss: 0.5929, Train Acc: 0.7801 | Val Loss: 0.5090, Val Acc: 0.8860\n",
      "Epoch [2/30] Train Loss: 0.4112, Train Acc: 0.9003 | Val Loss: 0.3647, Val Acc: 0.9474\n",
      "Epoch [3/30] Train Loss: 0.2930, Train Acc: 0.9179 | Val Loss: 0.2698, Val Acc: 0.9474\n",
      "Epoch [4/30] Train Loss: 0.2124, Train Acc: 0.9355 | Val Loss: 0.2125, Val Acc: 0.9561\n",
      "Epoch [5/30] Train Loss: 0.1759, Train Acc: 0.9355 | Val Loss: 0.1756, Val Acc: 0.9649\n",
      "Epoch [6/30] Train Loss: 0.1578, Train Acc: 0.9501 | Val Loss: 0.1494, Val Acc: 0.9649\n",
      "Epoch [7/30] Train Loss: 0.1347, Train Acc: 0.9472 | Val Loss: 0.1314, Val Acc: 0.9649\n",
      "Epoch [8/30] Train Loss: 0.1151, Train Acc: 0.9648 | Val Loss: 0.1178, Val Acc: 0.9649\n",
      "Epoch [9/30] Train Loss: 0.1035, Train Acc: 0.9677 | Val Loss: 0.1087, Val Acc: 0.9737\n",
      "Epoch [10/30] Train Loss: 0.1002, Train Acc: 0.9736 | Val Loss: 0.1009, Val Acc: 0.9737\n",
      "Epoch [11/30] Train Loss: 0.0909, Train Acc: 0.9707 | Val Loss: 0.0947, Val Acc: 0.9737\n",
      "Epoch [12/30] Train Loss: 0.0856, Train Acc: 0.9736 | Val Loss: 0.0903, Val Acc: 0.9737\n",
      "Epoch [13/30] Train Loss: 0.0864, Train Acc: 0.9707 | Val Loss: 0.0870, Val Acc: 0.9737\n",
      "Epoch [14/30] Train Loss: 0.0856, Train Acc: 0.9795 | Val Loss: 0.0834, Val Acc: 0.9737\n",
      "Epoch [15/30] Train Loss: 0.0778, Train Acc: 0.9765 | Val Loss: 0.0813, Val Acc: 0.9737\n",
      "Epoch [16/30] Train Loss: 0.0788, Train Acc: 0.9736 | Val Loss: 0.0786, Val Acc: 0.9737\n",
      "Epoch [17/30] Train Loss: 0.0772, Train Acc: 0.9707 | Val Loss: 0.0772, Val Acc: 0.9737\n",
      "Epoch [18/30] Train Loss: 0.0684, Train Acc: 0.9765 | Val Loss: 0.0754, Val Acc: 0.9737\n",
      "Epoch [19/30] Train Loss: 0.0692, Train Acc: 0.9824 | Val Loss: 0.0734, Val Acc: 0.9737\n",
      "Epoch [20/30] Train Loss: 0.0726, Train Acc: 0.9765 | Val Loss: 0.0719, Val Acc: 0.9825\n",
      "Epoch [21/30] Train Loss: 0.0608, Train Acc: 0.9853 | Val Loss: 0.0705, Val Acc: 0.9825\n",
      "Epoch [22/30] Train Loss: 0.0689, Train Acc: 0.9853 | Val Loss: 0.0697, Val Acc: 0.9825\n",
      "Epoch [23/30] Train Loss: 0.0668, Train Acc: 0.9736 | Val Loss: 0.0683, Val Acc: 0.9825\n",
      "Epoch [24/30] Train Loss: 0.0658, Train Acc: 0.9795 | Val Loss: 0.0682, Val Acc: 0.9825\n",
      "Epoch [25/30] Train Loss: 0.0576, Train Acc: 0.9824 | Val Loss: 0.0676, Val Acc: 0.9825\n",
      "Epoch [26/30] Train Loss: 0.0657, Train Acc: 0.9795 | Val Loss: 0.0670, Val Acc: 0.9825\n",
      "Epoch [27/30] Train Loss: 0.0507, Train Acc: 0.9883 | Val Loss: 0.0667, Val Acc: 0.9825\n",
      "Epoch [28/30] Train Loss: 0.0808, Train Acc: 0.9883 | Val Loss: 0.0657, Val Acc: 0.9825\n",
      "Epoch [29/30] Train Loss: 0.0598, Train Acc: 0.9765 | Val Loss: 0.0663, Val Acc: 0.9825\n",
      "Epoch [30/30] Train Loss: 0.0530, Train Acc: 0.9824 | Val Loss: 0.0660, Val Acc: 0.9825\n"
     ]
    }
   ],
   "source": [
    "from sklearn.metrics import classification_report, accuracy_score\n",
    "import matplotlib.pyplot as plt\n",
    "\n",
    "criterion = nn.BCEWithLogitsLoss() # binary cross-entropy\n",
    "optimizer = torch.optim.Adam(cancer_model.parameters(), lr=0.001, weight_decay = 1e-4)\n",
    "scheduler = torch.optim.lr_scheduler.ReduceLROnPlateau(optimizer, mode='min', patience=3, factor=0.5)\n",
    "\n",
    "epochs = 30\n",
    "\n",
    "train_losses, val_losses = [],[]\n",
    "train_accs, val_accs = [],[]\n",
    "\n",
    "for epoch in range(epochs):\n",
    "    # Train\n",
    "    cancer_model.train()\n",
    "    running_loss, correct, total = 0.0, 0, 0\n",
    "    for x_batch, y_batch in cancer_train_loader:\n",
    "        optimizer.zero_grad()\n",
    "        outputs = cancer_model(x_batch)\n",
    "        loss = criterion(outputs, y_batch)\n",
    "        loss.backward()\n",
    "        optimizer.step()\n",
    "        running_loss += loss.item()\n",
    "\n",
    "        preds = (outputs > 0.5).float()\n",
    "        correct += (preds == y_batch).sum().item()\n",
    "        total += y_batch.size(0)\n",
    "    \n",
    "    train_loss = running_loss / len(cancer_train_loader)\n",
    "    train_acc = correct / total\n",
    "    train_losses.append(train_loss)\n",
    "    train_accs.append(train_acc)\n",
    "\n",
    "  # validation\n",
    "\n",
    "    cancer_model.eval()\n",
    "    val_loss, correct, total = 0.0, 0, 0\n",
    "    with torch.no_grad():\n",
    "        for x_batch, y_batch in cancer_val_loader:\n",
    "            outputs = cancer_model(x_batch)\n",
    "            loss = criterion(outputs, y_batch)\n",
    "            val_loss += loss.item()\n",
    "\n",
    "            preds = (outputs > 0.5).float()\n",
    "            correct += (preds == y_batch).sum().item()\n",
    "            total += y_batch.size(0)\n",
    "\n",
    "    val_loss /= len(cancer_val_loader)\n",
    "    val_acc = correct / total\n",
    "    val_losses.append(val_loss)\n",
    "    val_accs.append(val_acc)\n",
    "    scheduler.step(val_loss)\n",
    "\n",
    "\n",
    "    print(f\"Epoch [{epoch+1}/{epochs}] \"\n",
    "          f\"Train Loss: {train_loss:.4f}, Train Acc: {train_acc:.4f} | \"\n",
    "          f\"Val Loss: {val_loss:.4f}, Val Acc: {val_acc:.4f}\")\n",
    "\n"
   ]
  },
  {
   "cell_type": "code",
   "execution_count": 69,
   "id": "8ed33c0b",
   "metadata": {},
   "outputs": [
    {
     "name": "stdout",
     "output_type": "stream",
     "text": [
      "\n",
      "Classification Report:\n",
      "               precision    recall  f1-score   support\n",
      "\n",
      "           0       0.97      1.00      0.99        72\n",
      "           1       1.00      0.95      0.98        42\n",
      "\n",
      "    accuracy                           0.98       114\n",
      "   macro avg       0.99      0.98      0.98       114\n",
      "weighted avg       0.98      0.98      0.98       114\n",
      "\n",
      "Test Accuracy: 0.9824561403508771\n"
     ]
    }
   ],
   "source": [
    "\n",
    "cancer_model.eval()\n",
    "y_pred = []\n",
    "with torch.no_grad():\n",
    "    for x_batch, _ in cancer_test_loader:\n",
    "        preds = cancer_model(x_batch)\n",
    "        preds = (preds > 0.5).int()\n",
    "        y_pred.extend(preds.numpy())\n",
    "\n",
    "y_pred = np.array(y_pred).flatten()\n",
    "print(\"\\nClassification Report:\\n\", classification_report(cancer_y_test, y_pred))\n",
    "print(\"Test Accuracy:\", accuracy_score(cancer_y_test, y_pred))\n",
    "\n",
    "\n"
   ]
  },
  {
   "cell_type": "code",
   "execution_count": 70,
   "id": "43e588d8",
   "metadata": {
    "scrolled": true
   },
   "outputs": [
    {
     "data": {
      "image/png": "[encoded data removed]",
      "text/plain": [
       "<Figure size 1200x400 with 2 Axes>"
      ]
     },
     "metadata": {},
     "output_type": "display_data"
    }
   ],
   "source": [
    "# check for overfitting\n",
    "plt.figure(figsize=(12,4))\n",
    "\n",
    "plt.subplot(1,2,1)\n",
    "plt.plot(train_losses, label=\"Train Loss\")\n",
    "plt.plot(val_losses, label=\"Val Loss\")\n",
    "plt.xlabel(\"Epoch\")\n",
    "plt.ylabel(\"Loss\")\n",
    "plt.legend()\n",
    "plt.title(\"Loss Curve\")\n",
    "\n",
    "plt.subplot(1,2,2)\n",
    "plt.plot(train_accs, label=\"Train Acc\")\n",
    "plt.plot(val_accs, label=\"Val Acc\")\n",
    "plt.xlabel(\"Epoch\")\n",
    "plt.ylabel(\"Accuracy\")\n",
    "plt.legend()\n",
    "plt.title(\"Accuracy Curve\")\n",
    "\n",
    "plt.show()\n"
   ]
  },
  {
   "cell_type": "code",
   "execution_count": 71,
   "id": "17e2335d",
   "metadata": {},
   "outputs": [],
   "source": [
    "# save model \n",
    "torch.save(cancer_model.state_dict(), \"cancer_model.pth\")\n"
   ]
  },
  {
   "cell_type": "code",
   "execution_count": 11,
   "id": "8a24e00e",
   "metadata": {
    "scrolled": true
   },
   "outputs": [
    {
     "data": {
      "text/plain": [
       "MLP(\n",
       "  (flatten): Flatten(start_dim=1, end_dim=-1)\n",
       "  (linear_relu_stack): Sequential(\n",
       "    (0): Linear(in_features=31, out_features=64, bias=True)\n",
       "    (1): ReLU()\n",
       "    (2): Dropout(p=0.5, inplace=False)\n",
       "    (3): Linear(in_features=64, out_features=1, bias=True)\n",
       "  )\n",
       ")"
      ]
     },
     "execution_count": 11,
     "metadata": {},
     "output_type": "execute_result"
    }
   ],
   "source": [
    "# load model after reopen\n",
    "input_dim = cancer_x_train.shape[1]\n",
    "cancer_model = MLP(input_dim)  # initialize the same architecture\n",
    "cancer_model.load_state_dict(torch.load(\"cancer_model.pth\"))\n",
    "cancer_model.eval() \n"
   ]
  },
  {
   "cell_type": "markdown",
   "id": "d890ae3c",
   "metadata": {},
   "source": [
    "# Disease Prediction and Urgency Classification"
   ]
  },
  {
   "cell_type": "code",
   "execution_count": 22,
   "id": "09f641cf",
   "metadata": {},
   "outputs": [],
   "source": [
    "pd.set_option(\"display.max_colwidth\", None)  # no cutoff for long text"
   ]
  },
  {
   "cell_type": "code",
   "execution_count": 23,
   "id": "e4a87afc",
   "metadata": {},
   "outputs": [],
   "source": [
    "disease_data = pd.read_csv(\"C:/Users/rhean/Documents/RHEANNE/Acads/Y4S1/SC4020/Project 2/Disease_Data/dataset.csv\")\n",
    "symptom_severity = pd.read_csv(\"C:/Users/rhean/Documents/RHEANNE/Acads/Y4S1/SC4020/Project 2/Disease_Data/Symptom-severity.csv\")\n",
    "symptom_description = pd.read_csv(\"C:/Users/rhean/Documents/RHEANNE/Acads/Y4S1/SC4020/Project 2/Disease_Data/symptom_Description.csv\")\n",
    "symptom_precaution = pd.read_csv(\"C:/Users/rhean/Documents/RHEANNE/Acads/Y4S1/SC4020/Project 2/Disease_Data/symptom_precaution.csv\")\n"
   ]
  },
  {
   "cell_type": "code",
   "execution_count": 7,
   "id": "47e02393",
   "metadata": {
    "scrolled": false
   },
   "outputs": [
    {
     "data": {
      "text/html": [
       "<div>\n",
       "<style scoped>\n",
       "    .dataframe tbody tr th:only-of-type {\n",
       "        vertical-align: middle;\n",
       "    }\n",
       "\n",
       "    .dataframe tbody tr th {\n",
       "        vertical-align: top;\n",
       "    }\n",
       "\n",
       "    .dataframe thead th {\n",
       "        text-align: right;\n",
       "    }\n",
       "</style>\n",
       "<table border=\"1\" class=\"dataframe\">\n",
       "  <thead>\n",
       "    <tr style=\"text-align: right;\">\n",
       "      <th></th>\n",
       "      <th>Disease</th>\n",
       "      <th>Symptom_1</th>\n",
       "      <th>Symptom_2</th>\n",
       "      <th>Symptom_3</th>\n",
       "      <th>Symptom_4</th>\n",
       "      <th>Symptom_5</th>\n",
       "      <th>Symptom_6</th>\n",
       "      <th>Symptom_7</th>\n",
       "      <th>Symptom_8</th>\n",
       "      <th>Symptom_9</th>\n",
       "      <th>Symptom_10</th>\n",
       "      <th>Symptom_11</th>\n",
       "      <th>Symptom_12</th>\n",
       "      <th>Symptom_13</th>\n",
       "      <th>Symptom_14</th>\n",
       "      <th>Symptom_15</th>\n",
       "      <th>Symptom_16</th>\n",
       "      <th>Symptom_17</th>\n",
       "    </tr>\n",
       "  </thead>\n",
       "  <tbody>\n",
       "    <tr>\n",
       "      <th>0</th>\n",
       "      <td>Fungal infection</td>\n",
       "      <td>itching</td>\n",
       "      <td>skin_rash</td>\n",
       "      <td>nodal_skin_eruptions</td>\n",
       "      <td>dischromic _patches</td>\n",
       "      <td>NaN</td>\n",
       "      <td>NaN</td>\n",
       "      <td>NaN</td>\n",
       "      <td>NaN</td>\n",
       "      <td>NaN</td>\n",
       "      <td>NaN</td>\n",
       "      <td>NaN</td>\n",
       "      <td>NaN</td>\n",
       "      <td>NaN</td>\n",
       "      <td>NaN</td>\n",
       "      <td>NaN</td>\n",
       "      <td>NaN</td>\n",
       "      <td>NaN</td>\n",
       "    </tr>\n",
       "    <tr>\n",
       "      <th>1</th>\n",
       "      <td>Fungal infection</td>\n",
       "      <td>skin_rash</td>\n",
       "      <td>nodal_skin_eruptions</td>\n",
       "      <td>dischromic _patches</td>\n",
       "      <td>NaN</td>\n",
       "      <td>NaN</td>\n",
       "      <td>NaN</td>\n",
       "      <td>NaN</td>\n",
       "      <td>NaN</td>\n",
       "      <td>NaN</td>\n",
       "      <td>NaN</td>\n",
       "      <td>NaN</td>\n",
       "      <td>NaN</td>\n",
       "      <td>NaN</td>\n",
       "      <td>NaN</td>\n",
       "      <td>NaN</td>\n",
       "      <td>NaN</td>\n",
       "      <td>NaN</td>\n",
       "    </tr>\n",
       "    <tr>\n",
       "      <th>2</th>\n",
       "      <td>Fungal infection</td>\n",
       "      <td>itching</td>\n",
       "      <td>nodal_skin_eruptions</td>\n",
       "      <td>dischromic _patches</td>\n",
       "      <td>NaN</td>\n",
       "      <td>NaN</td>\n",
       "      <td>NaN</td>\n",
       "      <td>NaN</td>\n",
       "      <td>NaN</td>\n",
       "      <td>NaN</td>\n",
       "      <td>NaN</td>\n",
       "      <td>NaN</td>\n",
       "      <td>NaN</td>\n",
       "      <td>NaN</td>\n",
       "      <td>NaN</td>\n",
       "      <td>NaN</td>\n",
       "      <td>NaN</td>\n",
       "      <td>NaN</td>\n",
       "    </tr>\n",
       "    <tr>\n",
       "      <th>3</th>\n",
       "      <td>Fungal infection</td>\n",
       "      <td>itching</td>\n",
       "      <td>skin_rash</td>\n",
       "      <td>dischromic _patches</td>\n",
       "      <td>NaN</td>\n",
       "      <td>NaN</td>\n",
       "      <td>NaN</td>\n",
       "      <td>NaN</td>\n",
       "      <td>NaN</td>\n",
       "      <td>NaN</td>\n",
       "      <td>NaN</td>\n",
       "      <td>NaN</td>\n",
       "      <td>NaN</td>\n",
       "      <td>NaN</td>\n",
       "      <td>NaN</td>\n",
       "      <td>NaN</td>\n",
       "      <td>NaN</td>\n",
       "      <td>NaN</td>\n",
       "    </tr>\n",
       "    <tr>\n",
       "      <th>4</th>\n",
       "      <td>Fungal infection</td>\n",
       "      <td>itching</td>\n",
       "      <td>skin_rash</td>\n",
       "      <td>nodal_skin_eruptions</td>\n",
       "      <td>NaN</td>\n",
       "      <td>NaN</td>\n",
       "      <td>NaN</td>\n",
       "      <td>NaN</td>\n",
       "      <td>NaN</td>\n",
       "      <td>NaN</td>\n",
       "      <td>NaN</td>\n",
       "      <td>NaN</td>\n",
       "      <td>NaN</td>\n",
       "      <td>NaN</td>\n",
       "      <td>NaN</td>\n",
       "      <td>NaN</td>\n",
       "      <td>NaN</td>\n",
       "      <td>NaN</td>\n",
       "    </tr>\n",
       "  </tbody>\n",
       "</table>\n",
       "</div>"
      ],
      "text/plain": [
       "            Disease   Symptom_1              Symptom_2              Symptom_3  \\\n",
       "0  Fungal infection     itching              skin_rash   nodal_skin_eruptions   \n",
       "1  Fungal infection   skin_rash   nodal_skin_eruptions    dischromic _patches   \n",
       "2  Fungal infection     itching   nodal_skin_eruptions    dischromic _patches   \n",
       "3  Fungal infection     itching              skin_rash    dischromic _patches   \n",
       "4  Fungal infection     itching              skin_rash   nodal_skin_eruptions   \n",
       "\n",
       "              Symptom_4 Symptom_5 Symptom_6 Symptom_7 Symptom_8 Symptom_9  \\\n",
       "0   dischromic _patches       NaN       NaN       NaN       NaN       NaN   \n",
       "1                   NaN       NaN       NaN       NaN       NaN       NaN   \n",
       "2                   NaN       NaN       NaN       NaN       NaN       NaN   \n",
       "3                   NaN       NaN       NaN       NaN       NaN       NaN   \n",
       "4                   NaN       NaN       NaN       NaN       NaN       NaN   \n",
       "\n",
       "  Symptom_10 Symptom_11 Symptom_12 Symptom_13 Symptom_14 Symptom_15  \\\n",
       "0        NaN        NaN        NaN        NaN        NaN        NaN   \n",
       "1        NaN        NaN        NaN        NaN        NaN        NaN   \n",
       "2        NaN        NaN        NaN        NaN        NaN        NaN   \n",
       "3        NaN        NaN        NaN        NaN        NaN        NaN   \n",
       "4        NaN        NaN        NaN        NaN        NaN        NaN   \n",
       "\n",
       "  Symptom_16 Symptom_17  \n",
       "0        NaN        NaN  \n",
       "1        NaN        NaN  \n",
       "2        NaN        NaN  \n",
       "3        NaN        NaN  \n",
       "4        NaN        NaN  "
      ]
     },
     "execution_count": 7,
     "metadata": {},
     "output_type": "execute_result"
    }
   ],
   "source": [
    "disease_data.head()"
   ]
  },
  {
   "cell_type": "code",
   "execution_count": 8,
   "id": "b5354404",
   "metadata": {
    "scrolled": true
   },
   "outputs": [
    {
     "name": "stdout",
     "output_type": "stream",
     "text": [
      "<class 'pandas.core.frame.DataFrame'>\n",
      "RangeIndex: 4920 entries, 0 to 4919\n",
      "Data columns (total 18 columns):\n",
      " #   Column      Non-Null Count  Dtype \n",
      "---  ------      --------------  ----- \n",
      " 0   Disease     4920 non-null   object\n",
      " 1   Symptom_1   4920 non-null   object\n",
      " 2   Symptom_2   4920 non-null   object\n",
      " 3   Symptom_3   4920 non-null   object\n",
      " 4   Symptom_4   4572 non-null   object\n",
      " 5   Symptom_5   3714 non-null   object\n",
      " 6   Symptom_6   2934 non-null   object\n",
      " 7   Symptom_7   2268 non-null   object\n",
      " 8   Symptom_8   1944 non-null   object\n",
      " 9   Symptom_9   1692 non-null   object\n",
      " 10  Symptom_10  1512 non-null   object\n",
      " 11  Symptom_11  1194 non-null   object\n",
      " 12  Symptom_12  744 non-null    object\n",
      " 13  Symptom_13  504 non-null    object\n",
      " 14  Symptom_14  306 non-null    object\n",
      " 15  Symptom_15  240 non-null    object\n",
      " 16  Symptom_16  192 non-null    object\n",
      " 17  Symptom_17  72 non-null     object\n",
      "dtypes: object(18)\n",
      "memory usage: 692.0+ KB\n"
     ]
    }
   ],
   "source": [
    "disease_data.info()"
   ]
  },
  {
   "cell_type": "code",
   "execution_count": 24,
   "id": "2effcf73",
   "metadata": {},
   "outputs": [
    {
     "data": {
      "text/plain": [
       "41"
      ]
     },
     "execution_count": 24,
     "metadata": {},
     "output_type": "execute_result"
    }
   ],
   "source": [
    "len(disease_data['Disease'].unique())"
   ]
  },
  {
   "cell_type": "code",
   "execution_count": 25,
   "id": "85049a84",
   "metadata": {
    "scrolled": false
   },
   "outputs": [
    {
     "data": {
      "text/html": [
       "<div>\n",
       "<style scoped>\n",
       "    .dataframe tbody tr th:only-of-type {\n",
       "        vertical-align: middle;\n",
       "    }\n",
       "\n",
       "    .dataframe tbody tr th {\n",
       "        vertical-align: top;\n",
       "    }\n",
       "\n",
       "    .dataframe thead th {\n",
       "        text-align: right;\n",
       "    }\n",
       "</style>\n",
       "<table border=\"1\" class=\"dataframe\">\n",
       "  <thead>\n",
       "    <tr style=\"text-align: right;\">\n",
       "      <th></th>\n",
       "      <th>Symptom</th>\n",
       "      <th>weight</th>\n",
       "    </tr>\n",
       "  </thead>\n",
       "  <tbody>\n",
       "    <tr>\n",
       "      <th>0</th>\n",
       "      <td>itching</td>\n",
       "      <td>1</td>\n",
       "    </tr>\n",
       "    <tr>\n",
       "      <th>1</th>\n",
       "      <td>skin_rash</td>\n",
       "      <td>3</td>\n",
       "    </tr>\n",
       "    <tr>\n",
       "      <th>2</th>\n",
       "      <td>nodal_skin_eruptions</td>\n",
       "      <td>4</td>\n",
       "    </tr>\n",
       "    <tr>\n",
       "      <th>3</th>\n",
       "      <td>continuous_sneezing</td>\n",
       "      <td>4</td>\n",
       "    </tr>\n",
       "    <tr>\n",
       "      <th>4</th>\n",
       "      <td>shivering</td>\n",
       "      <td>5</td>\n",
       "    </tr>\n",
       "  </tbody>\n",
       "</table>\n",
       "</div>"
      ],
      "text/plain": [
       "                Symptom  weight\n",
       "0               itching       1\n",
       "1             skin_rash       3\n",
       "2  nodal_skin_eruptions       4\n",
       "3   continuous_sneezing       4\n",
       "4             shivering       5"
      ]
     },
     "execution_count": 25,
     "metadata": {},
     "output_type": "execute_result"
    }
   ],
   "source": [
    "symptom_severity.head()"
   ]
  },
  {
   "cell_type": "code",
   "execution_count": 11,
   "id": "00f391af",
   "metadata": {},
   "outputs": [
    {
     "name": "stdout",
     "output_type": "stream",
     "text": [
      "<class 'pandas.core.frame.DataFrame'>\n",
      "RangeIndex: 133 entries, 0 to 132\n",
      "Data columns (total 2 columns):\n",
      " #   Column   Non-Null Count  Dtype \n",
      "---  ------   --------------  ----- \n",
      " 0   Symptom  133 non-null    object\n",
      " 1   weight   133 non-null    int64 \n",
      "dtypes: int64(1), object(1)\n",
      "memory usage: 2.2+ KB\n"
     ]
    }
   ],
   "source": [
    "symptom_severity.info()"
   ]
  },
  {
   "cell_type": "code",
   "execution_count": 12,
   "id": "4a7f8a84",
   "metadata": {},
   "outputs": [
    {
     "data": {
      "text/plain": [
       "132"
      ]
     },
     "execution_count": 12,
     "metadata": {},
     "output_type": "execute_result"
    }
   ],
   "source": [
    "len(symptom_severity['Symptom'].unique())\n"
   ]
  },
  {
   "cell_type": "code",
   "execution_count": 14,
   "id": "a212ad46",
   "metadata": {},
   "outputs": [
    {
     "data": {
      "text/plain": [
       "array(['itching', 'skin_rash', 'nodal_skin_eruptions',\n",
       "       'continuous_sneezing', 'shivering', 'chills', 'joint_pain',\n",
       "       'stomach_pain', 'acidity', 'ulcers_on_tongue', 'muscle_wasting',\n",
       "       'vomiting', 'burning_micturition', 'spotting_urination', 'fatigue',\n",
       "       'weight_gain', 'anxiety', 'cold_hands_and_feets', 'mood_swings',\n",
       "       'weight_loss', 'restlessness', 'lethargy', 'patches_in_throat',\n",
       "       'irregular_sugar_level', 'cough', 'high_fever', 'sunken_eyes',\n",
       "       'breathlessness', 'sweating', 'dehydration', 'indigestion',\n",
       "       'headache', 'yellowish_skin', 'dark_urine', 'nausea',\n",
       "       'loss_of_appetite', 'pain_behind_the_eyes', 'back_pain',\n",
       "       'constipation', 'abdominal_pain', 'diarrhoea', 'mild_fever',\n",
       "       'yellow_urine', 'yellowing_of_eyes', 'acute_liver_failure',\n",
       "       'fluid_overload', 'swelling_of_stomach', 'swelled_lymph_nodes',\n",
       "       'malaise', 'blurred_and_distorted_vision', 'phlegm',\n",
       "       'throat_irritation', 'redness_of_eyes', 'sinus_pressure',\n",
       "       'runny_nose', 'congestion', 'chest_pain', 'weakness_in_limbs',\n",
       "       'fast_heart_rate', 'pain_during_bowel_movements',\n",
       "       'pain_in_anal_region', 'bloody_stool', 'irritation_in_anus',\n",
       "       'neck_pain', 'dizziness', 'cramps', 'bruising', 'obesity',\n",
       "       'swollen_legs', 'swollen_blood_vessels', 'puffy_face_and_eyes',\n",
       "       'enlarged_thyroid', 'brittle_nails', 'swollen_extremeties',\n",
       "       'excessive_hunger', 'extra_marital_contacts',\n",
       "       'drying_and_tingling_lips', 'slurred_speech', 'knee_pain',\n",
       "       'hip_joint_pain', 'muscle_weakness', 'stiff_neck',\n",
       "       'swelling_joints', 'movement_stiffness', 'spinning_movements',\n",
       "       'loss_of_balance', 'unsteadiness', 'weakness_of_one_body_side',\n",
       "       'loss_of_smell', 'bladder_discomfort', 'foul_smell_ofurine',\n",
       "       'continuous_feel_of_urine', 'passage_of_gases', 'internal_itching',\n",
       "       'toxic_look_(typhos)', 'depression', 'irritability', 'muscle_pain',\n",
       "       'altered_sensorium', 'red_spots_over_body', 'belly_pain',\n",
       "       'abnormal_menstruation', 'dischromic_patches',\n",
       "       'watering_from_eyes', 'increased_appetite', 'polyuria',\n",
       "       'family_history', 'mucoid_sputum', 'rusty_sputum',\n",
       "       'lack_of_concentration', 'visual_disturbances',\n",
       "       'receiving_blood_transfusion', 'receiving_unsterile_injections',\n",
       "       'coma', 'stomach_bleeding', 'distention_of_abdomen',\n",
       "       'history_of_alcohol_consumption', 'blood_in_sputum',\n",
       "       'prominent_veins_on_calf', 'palpitations', 'painful_walking',\n",
       "       'pus_filled_pimples', 'blackheads', 'scurring', 'skin_peeling',\n",
       "       'silver_like_dusting', 'small_dents_in_nails',\n",
       "       'inflammatory_nails', 'blister', 'red_sore_around_nose',\n",
       "       'yellow_crust_ooze', 'prognosis'], dtype=object)"
      ]
     },
     "execution_count": 14,
     "metadata": {},
     "output_type": "execute_result"
    }
   ],
   "source": [
    "symptom_severity['Symptom'].unique()"
   ]
  },
  {
   "cell_type": "code",
   "execution_count": 26,
   "id": "f8d6e3ca",
   "metadata": {},
   "outputs": [
    {
     "data": {
      "text/html": [
       "<div>\n",
       "<style scoped>\n",
       "    .dataframe tbody tr th:only-of-type {\n",
       "        vertical-align: middle;\n",
       "    }\n",
       "\n",
       "    .dataframe tbody tr th {\n",
       "        vertical-align: top;\n",
       "    }\n",
       "\n",
       "    .dataframe thead th {\n",
       "        text-align: right;\n",
       "    }\n",
       "</style>\n",
       "<table border=\"1\" class=\"dataframe\">\n",
       "  <thead>\n",
       "    <tr style=\"text-align: right;\">\n",
       "      <th></th>\n",
       "      <th>Symptom</th>\n",
       "      <th>weight</th>\n",
       "    </tr>\n",
       "  </thead>\n",
       "  <tbody>\n",
       "    <tr>\n",
       "      <th>132</th>\n",
       "      <td>prognosis</td>\n",
       "      <td>5</td>\n",
       "    </tr>\n",
       "  </tbody>\n",
       "</table>\n",
       "</div>"
      ],
      "text/plain": [
       "       Symptom  weight\n",
       "132  prognosis       5"
      ]
     },
     "execution_count": 26,
     "metadata": {},
     "output_type": "execute_result"
    }
   ],
   "source": [
    "#investigating prognosis \n",
    "symptom_severity[symptom_severity['Symptom']=='prognosis']"
   ]
  },
  {
   "cell_type": "code",
   "execution_count": 27,
   "id": "34c631a2",
   "metadata": {},
   "outputs": [],
   "source": [
    "# dropping prognosis\n",
    "symptom_severity = symptom_severity[symptom_severity['Symptom']!='prognosis']"
   ]
  },
  {
   "cell_type": "code",
   "execution_count": 28,
   "id": "e07b3586",
   "metadata": {},
   "outputs": [
    {
     "name": "stdout",
     "output_type": "stream",
     "text": [
      "<class 'pandas.core.frame.DataFrame'>\n",
      "Int64Index: 132 entries, 0 to 131\n",
      "Data columns (total 2 columns):\n",
      " #   Column   Non-Null Count  Dtype \n",
      "---  ------   --------------  ----- \n",
      " 0   Symptom  132 non-null    object\n",
      " 1   weight   132 non-null    int64 \n",
      "dtypes: int64(1), object(1)\n",
      "memory usage: 3.1+ KB\n"
     ]
    }
   ],
   "source": [
    "symptom_severity.info()"
   ]
  },
  {
   "cell_type": "code",
   "execution_count": 18,
   "id": "3178a146",
   "metadata": {
    "scrolled": true
   },
   "outputs": [
    {
     "data": {
      "text/html": [
       "<div>\n",
       "<style scoped>\n",
       "    .dataframe tbody tr th:only-of-type {\n",
       "        vertical-align: middle;\n",
       "    }\n",
       "\n",
       "    .dataframe tbody tr th {\n",
       "        vertical-align: top;\n",
       "    }\n",
       "\n",
       "    .dataframe thead th {\n",
       "        text-align: right;\n",
       "    }\n",
       "</style>\n",
       "<table border=\"1\" class=\"dataframe\">\n",
       "  <thead>\n",
       "    <tr style=\"text-align: right;\">\n",
       "      <th></th>\n",
       "      <th>Disease</th>\n",
       "      <th>Description</th>\n",
       "    </tr>\n",
       "  </thead>\n",
       "  <tbody>\n",
       "    <tr>\n",
       "      <th>0</th>\n",
       "      <td>Drug Reaction</td>\n",
       "      <td>An adverse drug reaction (ADR) is an injury caused by taking medication. ADRs may occur following a single dose or prolonged administration of a drug or result from the combination of two or more drugs.</td>\n",
       "    </tr>\n",
       "    <tr>\n",
       "      <th>1</th>\n",
       "      <td>Malaria</td>\n",
       "      <td>An infectious disease caused by protozoan parasites from the Plasmodium family that can be transmitted by the bite of the Anopheles mosquito or by a contaminated needle or transfusion. Falciparum malaria is the most deadly type.</td>\n",
       "    </tr>\n",
       "    <tr>\n",
       "      <th>2</th>\n",
       "      <td>Allergy</td>\n",
       "      <td>An allergy is an immune system response to a foreign substance that's not typically harmful to your body.They can include certain foods, pollen, or pet dander. Your immune system's job is to keep you healthy by fighting harmful pathogens.</td>\n",
       "    </tr>\n",
       "    <tr>\n",
       "      <th>3</th>\n",
       "      <td>Hypothyroidism</td>\n",
       "      <td>Hypothyroidism, also called underactive thyroid or low thyroid, is a disorder of the endocrine system in which the thyroid gland does not produce enough thyroid hormone.</td>\n",
       "    </tr>\n",
       "    <tr>\n",
       "      <th>4</th>\n",
       "      <td>Psoriasis</td>\n",
       "      <td>Psoriasis is a common skin disorder that forms thick, red, bumpy patches covered with silvery scales. They can pop up anywhere, but most appear on the scalp, elbows, knees, and lower back. Psoriasis can't be passed from person to person. It does sometimes happen in members of the same family.</td>\n",
       "    </tr>\n",
       "  </tbody>\n",
       "</table>\n",
       "</div>"
      ],
      "text/plain": [
       "          Disease  \\\n",
       "0   Drug Reaction   \n",
       "1         Malaria   \n",
       "2         Allergy   \n",
       "3  Hypothyroidism   \n",
       "4       Psoriasis   \n",
       "\n",
       "                                                                                                                                                                                                                                                                                             Description  \n",
       "0                                                                                             An adverse drug reaction (ADR) is an injury caused by taking medication. ADRs may occur following a single dose or prolonged administration of a drug or result from the combination of two or more drugs.  \n",
       "1                                                                   An infectious disease caused by protozoan parasites from the Plasmodium family that can be transmitted by the bite of the Anopheles mosquito or by a contaminated needle or transfusion. Falciparum malaria is the most deadly type.  \n",
       "2                                                         An allergy is an immune system response to a foreign substance that's not typically harmful to your body.They can include certain foods, pollen, or pet dander. Your immune system's job is to keep you healthy by fighting harmful pathogens.  \n",
       "3                                                                                                                              Hypothyroidism, also called underactive thyroid or low thyroid, is a disorder of the endocrine system in which the thyroid gland does not produce enough thyroid hormone.  \n",
       "4  Psoriasis is a common skin disorder that forms thick, red, bumpy patches covered with silvery scales. They can pop up anywhere, but most appear on the scalp, elbows, knees, and lower back. Psoriasis can't be passed from person to person. It does sometimes happen in members of the same family.  "
      ]
     },
     "execution_count": 18,
     "metadata": {},
     "output_type": "execute_result"
    }
   ],
   "source": [
    "symptom_description.head()"
   ]
  },
  {
   "cell_type": "code",
   "execution_count": 19,
   "id": "688755e9",
   "metadata": {
    "scrolled": false
   },
   "outputs": [
    {
     "data": {
      "text/html": [
       "<div>\n",
       "<style scoped>\n",
       "    .dataframe tbody tr th:only-of-type {\n",
       "        vertical-align: middle;\n",
       "    }\n",
       "\n",
       "    .dataframe tbody tr th {\n",
       "        vertical-align: top;\n",
       "    }\n",
       "\n",
       "    .dataframe thead th {\n",
       "        text-align: right;\n",
       "    }\n",
       "</style>\n",
       "<table border=\"1\" class=\"dataframe\">\n",
       "  <thead>\n",
       "    <tr style=\"text-align: right;\">\n",
       "      <th></th>\n",
       "      <th>Disease</th>\n",
       "      <th>Precaution_1</th>\n",
       "      <th>Precaution_2</th>\n",
       "      <th>Precaution_3</th>\n",
       "      <th>Precaution_4</th>\n",
       "    </tr>\n",
       "  </thead>\n",
       "  <tbody>\n",
       "    <tr>\n",
       "      <th>0</th>\n",
       "      <td>Drug Reaction</td>\n",
       "      <td>stop irritation</td>\n",
       "      <td>consult nearest hospital</td>\n",
       "      <td>stop taking drug</td>\n",
       "      <td>follow up</td>\n",
       "    </tr>\n",
       "    <tr>\n",
       "      <th>1</th>\n",
       "      <td>Malaria</td>\n",
       "      <td>Consult nearest hospital</td>\n",
       "      <td>avoid oily food</td>\n",
       "      <td>avoid non veg food</td>\n",
       "      <td>keep mosquitos out</td>\n",
       "    </tr>\n",
       "    <tr>\n",
       "      <th>2</th>\n",
       "      <td>Allergy</td>\n",
       "      <td>apply calamine</td>\n",
       "      <td>cover area with bandage</td>\n",
       "      <td>NaN</td>\n",
       "      <td>use ice to compress itching</td>\n",
       "    </tr>\n",
       "    <tr>\n",
       "      <th>3</th>\n",
       "      <td>Hypothyroidism</td>\n",
       "      <td>reduce stress</td>\n",
       "      <td>exercise</td>\n",
       "      <td>eat healthy</td>\n",
       "      <td>get proper sleep</td>\n",
       "    </tr>\n",
       "    <tr>\n",
       "      <th>4</th>\n",
       "      <td>Psoriasis</td>\n",
       "      <td>wash hands with warm soapy water</td>\n",
       "      <td>stop bleeding using pressure</td>\n",
       "      <td>consult doctor</td>\n",
       "      <td>salt baths</td>\n",
       "    </tr>\n",
       "  </tbody>\n",
       "</table>\n",
       "</div>"
      ],
      "text/plain": [
       "          Disease                      Precaution_1  \\\n",
       "0   Drug Reaction                   stop irritation   \n",
       "1         Malaria          Consult nearest hospital   \n",
       "2         Allergy                    apply calamine   \n",
       "3  Hypothyroidism                     reduce stress   \n",
       "4       Psoriasis  wash hands with warm soapy water   \n",
       "\n",
       "                   Precaution_2        Precaution_3  \\\n",
       "0      consult nearest hospital    stop taking drug   \n",
       "1               avoid oily food  avoid non veg food   \n",
       "2       cover area with bandage                 NaN   \n",
       "3                      exercise         eat healthy   \n",
       "4  stop bleeding using pressure      consult doctor   \n",
       "\n",
       "                  Precaution_4  \n",
       "0                    follow up  \n",
       "1           keep mosquitos out  \n",
       "2  use ice to compress itching  \n",
       "3             get proper sleep  \n",
       "4                   salt baths  "
      ]
     },
     "execution_count": 19,
     "metadata": {},
     "output_type": "execute_result"
    }
   ],
   "source": [
    "symptom_precaution.head()"
   ]
  },
  {
   "cell_type": "markdown",
   "id": "0741605b",
   "metadata": {},
   "source": [
    "Finding urgent diseases"
   ]
  },
  {
   "cell_type": "code",
   "execution_count": 42,
   "id": "3fa9f5ad",
   "metadata": {},
   "outputs": [
    {
     "data": {
      "text/html": [
       "<div>\n",
       "<style scoped>\n",
       "    .dataframe tbody tr th:only-of-type {\n",
       "        vertical-align: middle;\n",
       "    }\n",
       "\n",
       "    .dataframe tbody tr th {\n",
       "        vertical-align: top;\n",
       "    }\n",
       "\n",
       "    .dataframe thead th {\n",
       "        text-align: right;\n",
       "    }\n",
       "</style>\n",
       "<table border=\"1\" class=\"dataframe\">\n",
       "  <thead>\n",
       "    <tr style=\"text-align: right;\">\n",
       "      <th></th>\n",
       "      <th>Disease</th>\n",
       "      <th>Precaution_1</th>\n",
       "      <th>Precaution_2</th>\n",
       "      <th>Precaution_3</th>\n",
       "      <th>Precaution_4</th>\n",
       "    </tr>\n",
       "  </thead>\n",
       "  <tbody>\n",
       "    <tr>\n",
       "      <th>1</th>\n",
       "      <td>Malaria</td>\n",
       "      <td>Consult nearest hospital</td>\n",
       "      <td>avoid oily food</td>\n",
       "      <td>avoid non veg food</td>\n",
       "      <td>keep mosquitos out</td>\n",
       "    </tr>\n",
       "    <tr>\n",
       "      <th>7</th>\n",
       "      <td>hepatitis A</td>\n",
       "      <td>Consult nearest hospital</td>\n",
       "      <td>wash hands through</td>\n",
       "      <td>avoid fatty spicy food</td>\n",
       "      <td>medication</td>\n",
       "    </tr>\n",
       "    <tr>\n",
       "      <th>28</th>\n",
       "      <td>Hepatitis C</td>\n",
       "      <td>Consult nearest hospital</td>\n",
       "      <td>vaccination</td>\n",
       "      <td>eat healthy</td>\n",
       "      <td>medication</td>\n",
       "    </tr>\n",
       "  </tbody>\n",
       "</table>\n",
       "</div>"
      ],
      "text/plain": [
       "        Disease              Precaution_1        Precaution_2  \\\n",
       "1       Malaria  Consult nearest hospital     avoid oily food   \n",
       "7   hepatitis A  Consult nearest hospital  wash hands through   \n",
       "28  Hepatitis C  Consult nearest hospital         vaccination   \n",
       "\n",
       "              Precaution_3        Precaution_4  \n",
       "1       avoid non veg food  keep mosquitos out  \n",
       "7   avoid fatty spicy food          medication  \n",
       "28             eat healthy          medication  "
      ]
     },
     "execution_count": 42,
     "metadata": {},
     "output_type": "execute_result"
    }
   ],
   "source": [
    "symptom_precaution[symptom_precaution['Precaution_1']=='Consult nearest hospital'].head()\n"
   ]
  },
  {
   "cell_type": "code",
   "execution_count": 43,
   "id": "f71b2602",
   "metadata": {
    "scrolled": true
   },
   "outputs": [
    {
     "data": {
      "text/plain": [
       "array(['stop irritation', 'Consult nearest hospital', 'apply calamine',\n",
       "       'reduce stress', 'wash hands with warm soapy water',\n",
       "       'avoid fatty spicy food', 'cold baths', 'acetaminophen',\n",
       "       'lie down', 'lie down on side', 'bath twice', 'have balanced diet',\n",
       "       'soak affected area in warm water', 'meditation',\n",
       "       'drink vitamin c rich drinks', 'use neem in bathing ',\n",
       "       'use heating pad or cold pack', 'eat healthy',\n",
       "       'drink plenty of water', 'lie down flat and raise the leg high',\n",
       "       'avoid open cuts', 'massage', 'eat high calorie vegitables',\n",
       "       'consult nearest hospital', 'switch to loose cloothing',\n",
       "       'stop alcohol consumption', 'drink papaya leaf juice',\n",
       "       'consult doctor', 'call ambulance', 'exercise',\n",
       "       'stop eating solid food for while', 'cover mouth'], dtype=object)"
      ]
     },
     "execution_count": 43,
     "metadata": {},
     "output_type": "execute_result"
    }
   ],
   "source": [
    "symptom_precaution['Precaution_1'].unique()\n"
   ]
  },
  {
   "cell_type": "code",
   "execution_count": 44,
   "id": "8655d17b",
   "metadata": {},
   "outputs": [
    {
     "data": {
      "text/html": [
       "<div>\n",
       "<style scoped>\n",
       "    .dataframe tbody tr th:only-of-type {\n",
       "        vertical-align: middle;\n",
       "    }\n",
       "\n",
       "    .dataframe tbody tr th {\n",
       "        vertical-align: top;\n",
       "    }\n",
       "\n",
       "    .dataframe thead th {\n",
       "        text-align: right;\n",
       "    }\n",
       "</style>\n",
       "<table border=\"1\" class=\"dataframe\">\n",
       "  <thead>\n",
       "    <tr style=\"text-align: right;\">\n",
       "      <th></th>\n",
       "      <th>Disease</th>\n",
       "      <th>Precaution_1</th>\n",
       "      <th>Precaution_2</th>\n",
       "      <th>Precaution_3</th>\n",
       "      <th>Precaution_4</th>\n",
       "    </tr>\n",
       "  </thead>\n",
       "  <tbody>\n",
       "    <tr>\n",
       "      <th>26</th>\n",
       "      <td>Hepatitis B</td>\n",
       "      <td>consult nearest hospital</td>\n",
       "      <td>vaccination</td>\n",
       "      <td>eat healthy</td>\n",
       "      <td>medication</td>\n",
       "    </tr>\n",
       "  </tbody>\n",
       "</table>\n",
       "</div>"
      ],
      "text/plain": [
       "        Disease              Precaution_1 Precaution_2 Precaution_3  \\\n",
       "26  Hepatitis B  consult nearest hospital  vaccination  eat healthy   \n",
       "\n",
       "   Precaution_4  \n",
       "26   medication  "
      ]
     },
     "execution_count": 44,
     "metadata": {},
     "output_type": "execute_result"
    }
   ],
   "source": [
    "symptom_precaution[symptom_precaution['Precaution_1']=='consult nearest hospital'].head()\n"
   ]
  },
  {
   "cell_type": "code",
   "execution_count": 45,
   "id": "51474f51",
   "metadata": {},
   "outputs": [
    {
     "data": {
      "text/html": [
       "<div>\n",
       "<style scoped>\n",
       "    .dataframe tbody tr th:only-of-type {\n",
       "        vertical-align: middle;\n",
       "    }\n",
       "\n",
       "    .dataframe tbody tr th {\n",
       "        vertical-align: top;\n",
       "    }\n",
       "\n",
       "    .dataframe thead th {\n",
       "        text-align: right;\n",
       "    }\n",
       "</style>\n",
       "<table border=\"1\" class=\"dataframe\">\n",
       "  <thead>\n",
       "    <tr style=\"text-align: right;\">\n",
       "      <th></th>\n",
       "      <th>Disease</th>\n",
       "      <th>Precaution_1</th>\n",
       "      <th>Precaution_2</th>\n",
       "      <th>Precaution_3</th>\n",
       "      <th>Precaution_4</th>\n",
       "    </tr>\n",
       "  </thead>\n",
       "  <tbody>\n",
       "    <tr>\n",
       "      <th>35</th>\n",
       "      <td>Hepatitis D</td>\n",
       "      <td>consult doctor</td>\n",
       "      <td>medication</td>\n",
       "      <td>eat healthy</td>\n",
       "      <td>follow up</td>\n",
       "    </tr>\n",
       "    <tr>\n",
       "      <th>37</th>\n",
       "      <td>Pneumonia</td>\n",
       "      <td>consult doctor</td>\n",
       "      <td>medication</td>\n",
       "      <td>rest</td>\n",
       "      <td>follow up</td>\n",
       "    </tr>\n",
       "  </tbody>\n",
       "</table>\n",
       "</div>"
      ],
      "text/plain": [
       "        Disease    Precaution_1 Precaution_2 Precaution_3 Precaution_4\n",
       "35  Hepatitis D  consult doctor   medication  eat healthy    follow up\n",
       "37    Pneumonia  consult doctor   medication         rest    follow up"
      ]
     },
     "execution_count": 45,
     "metadata": {},
     "output_type": "execute_result"
    }
   ],
   "source": [
    "symptom_precaution[symptom_precaution['Precaution_1']=='consult doctor'].head()\n"
   ]
  },
  {
   "cell_type": "code",
   "execution_count": 46,
   "id": "8b9217fe",
   "metadata": {
    "scrolled": true
   },
   "outputs": [
    {
     "data": {
      "text/html": [
       "<div>\n",
       "<style scoped>\n",
       "    .dataframe tbody tr th:only-of-type {\n",
       "        vertical-align: middle;\n",
       "    }\n",
       "\n",
       "    .dataframe tbody tr th {\n",
       "        vertical-align: top;\n",
       "    }\n",
       "\n",
       "    .dataframe thead th {\n",
       "        text-align: right;\n",
       "    }\n",
       "</style>\n",
       "<table border=\"1\" class=\"dataframe\">\n",
       "  <thead>\n",
       "    <tr style=\"text-align: right;\">\n",
       "      <th></th>\n",
       "      <th>Disease</th>\n",
       "      <th>Precaution_1</th>\n",
       "      <th>Precaution_2</th>\n",
       "      <th>Precaution_3</th>\n",
       "      <th>Precaution_4</th>\n",
       "    </tr>\n",
       "  </thead>\n",
       "  <tbody>\n",
       "    <tr>\n",
       "      <th>36</th>\n",
       "      <td>Heart attack</td>\n",
       "      <td>call ambulance</td>\n",
       "      <td>chew or swallow asprin</td>\n",
       "      <td>keep calm</td>\n",
       "      <td>NaN</td>\n",
       "    </tr>\n",
       "  </tbody>\n",
       "</table>\n",
       "</div>"
      ],
      "text/plain": [
       "         Disease    Precaution_1            Precaution_2 Precaution_3  \\\n",
       "36  Heart attack  call ambulance  chew or swallow asprin    keep calm   \n",
       "\n",
       "   Precaution_4  \n",
       "36          NaN  "
      ]
     },
     "execution_count": 46,
     "metadata": {},
     "output_type": "execute_result"
    }
   ],
   "source": [
    "symptom_precaution[symptom_precaution['Precaution_1']=='call ambulance'].head()\n"
   ]
  },
  {
   "cell_type": "code",
   "execution_count": 47,
   "id": "11918d45",
   "metadata": {
    "scrolled": false
   },
   "outputs": [
    {
     "data": {
      "text/plain": [
       "array(['consult nearest hospital', 'avoid oily food',\n",
       "       'cover area with bandage', 'exercise',\n",
       "       'stop bleeding using pressure', 'avoid lying down after eating',\n",
       "       'anti itch medicine', 'wash hands through',\n",
       "       'avoid sudden change in body', 'check in pulse',\n",
       "       'avoid fatty spicy food', 'use antibiotics', 'salt baths',\n",
       "       'consume probiotic food', 'consume witch hazel', 'take vapour',\n",
       "       'consume neem leaves', 'massage', 'increase vitamin c intake',\n",
       "       'use oinments', 'wear ppe if possible', 'eat healthy',\n",
       "       'antiboitic therapy', 'vaccination',\n",
       "       'use detol or neem in bathing water', 'reduce stress',\n",
       "       'take deep breaths', 'consult doctor', 'consume milk thistle',\n",
       "       'rest', 'medication', 'chew or swallow asprin',\n",
       "       'use hot and cold therapy', 'try taking small sips of water'],\n",
       "      dtype=object)"
      ]
     },
     "execution_count": 47,
     "metadata": {},
     "output_type": "execute_result"
    }
   ],
   "source": [
    "symptom_precaution['Precaution_2'].unique()\n",
    "#consult nearest hospital, consult_doctor"
   ]
  },
  {
   "cell_type": "code",
   "execution_count": 52,
   "id": "7873bee0",
   "metadata": {},
   "outputs": [
    {
     "data": {
      "text/html": [
       "<div>\n",
       "<style scoped>\n",
       "    .dataframe tbody tr th:only-of-type {\n",
       "        vertical-align: middle;\n",
       "    }\n",
       "\n",
       "    .dataframe tbody tr th {\n",
       "        vertical-align: top;\n",
       "    }\n",
       "\n",
       "    .dataframe thead th {\n",
       "        text-align: right;\n",
       "    }\n",
       "</style>\n",
       "<table border=\"1\" class=\"dataframe\">\n",
       "  <thead>\n",
       "    <tr style=\"text-align: right;\">\n",
       "      <th></th>\n",
       "      <th>Disease</th>\n",
       "      <th>Precaution_1</th>\n",
       "      <th>Precaution_2</th>\n",
       "      <th>Precaution_3</th>\n",
       "      <th>Precaution_4</th>\n",
       "    </tr>\n",
       "  </thead>\n",
       "  <tbody>\n",
       "    <tr>\n",
       "      <th>10</th>\n",
       "      <td>Hypoglycemia</td>\n",
       "      <td>lie down on side</td>\n",
       "      <td>check in pulse</td>\n",
       "      <td>drink sugary drinks</td>\n",
       "      <td>consult doctor</td>\n",
       "    </tr>\n",
       "  </tbody>\n",
       "</table>\n",
       "</div>"
      ],
      "text/plain": [
       "         Disease      Precaution_1    Precaution_2         Precaution_3  \\\n",
       "10  Hypoglycemia  lie down on side  check in pulse  drink sugary drinks   \n",
       "\n",
       "      Precaution_4  \n",
       "10  consult doctor  "
      ]
     },
     "execution_count": 52,
     "metadata": {},
     "output_type": "execute_result"
    }
   ],
   "source": [
    "symptom_precaution[symptom_precaution['Precaution_2']=='check in pulse'].head()\n"
   ]
  },
  {
   "cell_type": "code",
   "execution_count": 48,
   "id": "de0b3e1f",
   "metadata": {
    "scrolled": true
   },
   "outputs": [
    {
     "data": {
      "text/plain": [
       "array(['stop taking drug', 'avoid non veg food', nan, 'eat healthy',\n",
       "       'consult doctor', 'maintain healthy weight',\n",
       "       'avoid fatty spicy food', 'follow up', 'avoid abrupt head movment',\n",
       "       'drink sugary drinks', 'drink plenty of water',\n",
       "       'remove scabs with wet compressed cloth', 'reduce stress',\n",
       "       'eliminate milk', 'warm bath with epsom salt', 'avoid cold food',\n",
       "       'take vaccine', 'take otc pain reliver', 'use lemon balm',\n",
       "       'drink cranberry juice', 'use vein compression', 'exercise',\n",
       "       'keep infected area dry', 'use poloroid glasses in sun',\n",
       "       'get away from trigger', 'medication',\n",
       "       'eat fruits and high fiberous food', 'keep mosquitos away',\n",
       "       'keep calm', 'rest', 'try acupuncture'], dtype=object)"
      ]
     },
     "execution_count": 48,
     "metadata": {},
     "output_type": "execute_result"
    }
   ],
   "source": [
    "symptom_precaution['Precaution_3'].unique()\n"
   ]
  },
  {
   "cell_type": "code",
   "execution_count": null,
   "id": "f7a111f1",
   "metadata": {
    "collapsed": true
   },
   "outputs": [],
   "source": []
  },
  {
   "cell_type": "code",
   "execution_count": 49,
   "id": "31d1beec",
   "metadata": {
    "scrolled": true
   },
   "outputs": [
    {
     "data": {
      "text/plain": [
       "array(['follow up', 'keep mosquitos out', 'use ice to compress itching',\n",
       "       'get proper sleep', 'salt baths', 'exercise', 'eat healthy',\n",
       "       'medication', 'relax', 'consult doctor', 'avoid too many products',\n",
       "       'limit alcohol', 'consume alovera juice', 'keep fever in check',\n",
       "       'avoid public places', 'take radioactive iodine treatment',\n",
       "       'take probiotics', 'dont stand still for long', 'use clean cloths',\n",
       "       'seek help', 'keep hydrated', nan, 'massage',\n",
       "       'ease back into eating', 'rest'], dtype=object)"
      ]
     },
     "execution_count": 49,
     "metadata": {},
     "output_type": "execute_result"
    }
   ],
   "source": [
    "symptom_precaution['Precaution_4'].unique()\n"
   ]
  },
  {
   "cell_type": "code",
   "execution_count": 29,
   "id": "5548a1f9",
   "metadata": {
    "scrolled": true
   },
   "outputs": [
    {
     "name": "stdout",
     "output_type": "stream",
     "text": [
      "                         Disease                      Precaution_1  \\\n",
      "0                  Drug Reaction                   stop irritation   \n",
      "1                        Malaria          Consult nearest hospital   \n",
      "4                      Psoriasis  wash hands with warm soapy water   \n",
      "6            Chronic cholestasis                        cold baths   \n",
      "7                    hepatitis A          Consult nearest hospital   \n",
      "8                Osteoarthristis                     acetaminophen   \n",
      "10                  Hypoglycemia                  lie down on side   \n",
      "12                     Diabetes                 have balanced diet   \n",
      "13                      Impetigo  soak affected area in warm water   \n",
      "19          Cervical spondylosis      use heating pad or cold pack   \n",
      "23                          AIDS                   avoid open cuts   \n",
      "24  Paralysis (brain hemorrhage)                           massage   \n",
      "25                       Typhoid       eat high calorie vegitables   \n",
      "26                   Hepatitis B          consult nearest hospital   \n",
      "28                   Hepatitis C          Consult nearest hospital   \n",
      "29                      Migraine                        meditation   \n",
      "30              Bronchial Asthma         switch to loose cloothing   \n",
      "31           Alcoholic hepatitis          stop alcohol consumption   \n",
      "33                   Hepatitis E          stop alcohol consumption   \n",
      "35                   Hepatitis D                    consult doctor   \n",
      "36                  Heart attack                    call ambulance   \n",
      "37                     Pneumonia                    consult doctor   \n",
      "40                  Tuberculosis                       cover mouth   \n",
      "\n",
      "                    Precaution_2                            Precaution_3  \\\n",
      "0       consult nearest hospital                        stop taking drug   \n",
      "1                avoid oily food                      avoid non veg food   \n",
      "4   stop bleeding using pressure                          consult doctor   \n",
      "6             anti itch medicine                          consult doctor   \n",
      "7             wash hands through                  avoid fatty spicy food   \n",
      "8       consult nearest hospital                               follow up   \n",
      "10                check in pulse                     drink sugary drinks   \n",
      "12                      exercise                          consult doctor   \n",
      "13               use antibiotics  remove scabs with wet compressed cloth   \n",
      "19                      exercise                   take otc pain reliver   \n",
      "23          wear ppe if possible                          consult doctor   \n",
      "24                   eat healthy                                exercise   \n",
      "25            antiboitic therapy                          consult doctor   \n",
      "26                   vaccination                             eat healthy   \n",
      "28                   vaccination                             eat healthy   \n",
      "29                 reduce stress             use poloroid glasses in sun   \n",
      "30             take deep breaths                   get away from trigger   \n",
      "31                consult doctor                              medication   \n",
      "33                          rest                          consult doctor   \n",
      "35                    medication                             eat healthy   \n",
      "36        chew or swallow asprin                               keep calm   \n",
      "37                    medication                                    rest   \n",
      "40                consult doctor                              medication   \n",
      "\n",
      "          Precaution_4  \n",
      "0            follow up  \n",
      "1   keep mosquitos out  \n",
      "4           salt baths  \n",
      "6          eat healthy  \n",
      "7           medication  \n",
      "8           salt baths  \n",
      "10      consult doctor  \n",
      "12           follow up  \n",
      "13      consult doctor  \n",
      "19      consult doctor  \n",
      "23           follow up  \n",
      "24      consult doctor  \n",
      "25          medication  \n",
      "26          medication  \n",
      "28          medication  \n",
      "29      consult doctor  \n",
      "30           seek help  \n",
      "31           follow up  \n",
      "33          medication  \n",
      "35           follow up  \n",
      "36                 NaN  \n",
      "37           follow up  \n",
      "40                rest  \n"
     ]
    },
    {
     "data": {
      "text/plain": [
       "23"
      ]
     },
     "execution_count": 29,
     "metadata": {},
     "output_type": "execute_result"
    }
   ],
   "source": [
    "urgent_precautions = ['Consult nearest hospital','consult nearest hospital', 'consult doctor', 'call ambulance', 'seek help']\n",
    "# filter out urgent diseases \n",
    "\n",
    "\n",
    "# check across all precaution columns\n",
    "mask = symptom_precaution[['Precaution_1','Precaution_2','Precaution_3','Precaution_4']].isin(urgent_precautions).any(axis=1)\n",
    "\n",
    "# filter the dataframe\n",
    "urgent_df = symptom_precaution[mask]\n",
    "\n",
    "print(urgent_df)\n",
    "len(urgent_df)\n",
    " "
   ]
  },
  {
   "cell_type": "code",
   "execution_count": 22,
   "id": "9dd9c396",
   "metadata": {},
   "outputs": [
    {
     "name": "stdout",
     "output_type": "stream",
     "text": [
      "0                    Drug Reaction\n",
      "1                          Malaria\n",
      "4                        Psoriasis\n",
      "6              Chronic cholestasis\n",
      "7                      hepatitis A\n",
      "8                  Osteoarthristis\n",
      "10                    Hypoglycemia\n",
      "12                       Diabetes \n",
      "13                        Impetigo\n",
      "19            Cervical spondylosis\n",
      "23                            AIDS\n",
      "24    Paralysis (brain hemorrhage)\n",
      "25                         Typhoid\n",
      "26                     Hepatitis B\n",
      "28                     Hepatitis C\n",
      "29                        Migraine\n",
      "30                Bronchial Asthma\n",
      "31             Alcoholic hepatitis\n",
      "33                     Hepatitis E\n",
      "35                     Hepatitis D\n",
      "36                    Heart attack\n",
      "37                       Pneumonia\n",
      "40                    Tuberculosis\n",
      "Name: Disease, dtype: object\n"
     ]
    }
   ],
   "source": [
    "urgent_diseases = urgent_df['Disease']\n",
    "print(urgent_diseases)"
   ]
  },
  {
   "cell_type": "code",
   "execution_count": 30,
   "id": "9b5ef88b",
   "metadata": {},
   "outputs": [
    {
     "name": "stdout",
     "output_type": "stream",
     "text": [
      "         Disease              Precaution_1            Precaution_2  \\\n",
      "1        Malaria  Consult nearest hospital         avoid oily food   \n",
      "7    hepatitis A  Consult nearest hospital      wash hands through   \n",
      "26   Hepatitis B  consult nearest hospital             vaccination   \n",
      "28   Hepatitis C  Consult nearest hospital             vaccination   \n",
      "35   Hepatitis D            consult doctor              medication   \n",
      "36  Heart attack            call ambulance  chew or swallow asprin   \n",
      "37     Pneumonia            consult doctor              medication   \n",
      "\n",
      "              Precaution_3        Precaution_4  \n",
      "1       avoid non veg food  keep mosquitos out  \n",
      "7   avoid fatty spicy food          medication  \n",
      "26             eat healthy          medication  \n",
      "28             eat healthy          medication  \n",
      "35             eat healthy           follow up  \n",
      "36               keep calm                 NaN  \n",
      "37                    rest           follow up  \n"
     ]
    }
   ],
   "source": [
    "urgent_precautions = ['Consult nearest hospital','consult nearest hospital', 'consult doctor', 'call ambulance']\n",
    "# filter out urgent diseases \n",
    "\n",
    "# check across all precaution columns\n",
    "mask = symptom_precaution['Precaution_1'].isin(urgent_precautions)\n",
    "\n",
    "# filter the dataframe\n",
    "urgent_df = symptom_precaution[mask]\n",
    "\n",
    "\n",
    "print(urgent_df)"
   ]
  },
  {
   "cell_type": "markdown",
   "id": "c512bdcc",
   "metadata": {},
   "source": [
    "## Preprocess"
   ]
  },
  {
   "cell_type": "code",
   "execution_count": 56,
   "id": "a9c60bfc",
   "metadata": {},
   "outputs": [
    {
     "name": "stdout",
     "output_type": "stream",
     "text": [
      "Unique symptoms: 131\n"
     ]
    }
   ],
   "source": [
    "\n",
    "# get all symptoms\n",
    "symptom_cols = [col for col in disease_data.columns if col.startswith(\"Symptom\")]\n",
    "\n",
    "#fillna\n",
    "disease_data[symptom_cols] = disease_data[symptom_cols].fillna(\"None\")\n",
    "\n",
    "\n",
    "all_symptoms = set()\n",
    "for col in symptom_cols:\n",
    "    all_symptoms.update(disease_data[col].unique())\n",
    "all_symptoms.discard(\"None\") \n",
    "all_symptoms = sorted(list(all_symptoms))\n",
    "print(f\"Unique symptoms: {len(all_symptoms)}\")\n",
    "# symptom severity has 132 symptoms, should match\n"
   ]
  },
  {
   "cell_type": "code",
   "execution_count": null,
   "id": "a12f19d0",
   "metadata": {},
   "outputs": [],
   "source": []
  },
  {
   "cell_type": "code",
   "execution_count": 57,
   "id": "c6bfd248",
   "metadata": {},
   "outputs": [
    {
     "name": "stdout",
     "output_type": "stream",
     "text": [
      "(4920, 131)\n"
     ]
    }
   ],
   "source": [
    "\n",
    "symptoms_encoded = pd.DataFrame(0, index=disease_data.index, columns=all_symptoms)\n",
    "\n",
    "for idx, row in disease_data.iterrows():\n",
    "    for col in symptom_cols:\n",
    "        symptom = row[col]\n",
    "        if symptom != \"None\" and symptom in symptoms_encoded.columns:\n",
    "            symptoms_encoded.at[idx, symptom] = 1\n",
    "\n",
    "print(symptoms_encoded.shape)   # should be (n_samples, n_symptoms)"
   ]
  },
  {
   "cell_type": "code",
   "execution_count": 58,
   "id": "9e618c0a",
   "metadata": {},
   "outputs": [
    {
     "data": {
      "text/html": [
       "<div>\n",
       "<style scoped>\n",
       "    .dataframe tbody tr th:only-of-type {\n",
       "        vertical-align: middle;\n",
       "    }\n",
       "\n",
       "    .dataframe tbody tr th {\n",
       "        vertical-align: top;\n",
       "    }\n",
       "\n",
       "    .dataframe thead th {\n",
       "        text-align: right;\n",
       "    }\n",
       "</style>\n",
       "<table border=\"1\" class=\"dataframe\">\n",
       "  <thead>\n",
       "    <tr style=\"text-align: right;\">\n",
       "      <th></th>\n",
       "      <th>abdominal_pain</th>\n",
       "      <th>abnormal_menstruation</th>\n",
       "      <th>acidity</th>\n",
       "      <th>acute_liver_failure</th>\n",
       "      <th>altered_sensorium</th>\n",
       "      <th>anxiety</th>\n",
       "      <th>back_pain</th>\n",
       "      <th>belly_pain</th>\n",
       "      <th>blackheads</th>\n",
       "      <th>bladder_discomfort</th>\n",
       "      <th>...</th>\n",
       "      <th>watering_from_eyes</th>\n",
       "      <th>weakness_in_limbs</th>\n",
       "      <th>weakness_of_one_body_side</th>\n",
       "      <th>weight_gain</th>\n",
       "      <th>weight_loss</th>\n",
       "      <th>yellow_crust_ooze</th>\n",
       "      <th>yellow_urine</th>\n",
       "      <th>yellowing_of_eyes</th>\n",
       "      <th>yellowish_skin</th>\n",
       "      <th>itching</th>\n",
       "    </tr>\n",
       "  </thead>\n",
       "  <tbody>\n",
       "    <tr>\n",
       "      <th>0</th>\n",
       "      <td>0</td>\n",
       "      <td>0</td>\n",
       "      <td>0</td>\n",
       "      <td>0</td>\n",
       "      <td>0</td>\n",
       "      <td>0</td>\n",
       "      <td>0</td>\n",
       "      <td>0</td>\n",
       "      <td>0</td>\n",
       "      <td>0</td>\n",
       "      <td>...</td>\n",
       "      <td>0</td>\n",
       "      <td>0</td>\n",
       "      <td>0</td>\n",
       "      <td>0</td>\n",
       "      <td>0</td>\n",
       "      <td>0</td>\n",
       "      <td>0</td>\n",
       "      <td>0</td>\n",
       "      <td>0</td>\n",
       "      <td>1</td>\n",
       "    </tr>\n",
       "    <tr>\n",
       "      <th>1</th>\n",
       "      <td>0</td>\n",
       "      <td>0</td>\n",
       "      <td>0</td>\n",
       "      <td>0</td>\n",
       "      <td>0</td>\n",
       "      <td>0</td>\n",
       "      <td>0</td>\n",
       "      <td>0</td>\n",
       "      <td>0</td>\n",
       "      <td>0</td>\n",
       "      <td>...</td>\n",
       "      <td>0</td>\n",
       "      <td>0</td>\n",
       "      <td>0</td>\n",
       "      <td>0</td>\n",
       "      <td>0</td>\n",
       "      <td>0</td>\n",
       "      <td>0</td>\n",
       "      <td>0</td>\n",
       "      <td>0</td>\n",
       "      <td>0</td>\n",
       "    </tr>\n",
       "    <tr>\n",
       "      <th>2</th>\n",
       "      <td>0</td>\n",
       "      <td>0</td>\n",
       "      <td>0</td>\n",
       "      <td>0</td>\n",
       "      <td>0</td>\n",
       "      <td>0</td>\n",
       "      <td>0</td>\n",
       "      <td>0</td>\n",
       "      <td>0</td>\n",
       "      <td>0</td>\n",
       "      <td>...</td>\n",
       "      <td>0</td>\n",
       "      <td>0</td>\n",
       "      <td>0</td>\n",
       "      <td>0</td>\n",
       "      <td>0</td>\n",
       "      <td>0</td>\n",
       "      <td>0</td>\n",
       "      <td>0</td>\n",
       "      <td>0</td>\n",
       "      <td>1</td>\n",
       "    </tr>\n",
       "    <tr>\n",
       "      <th>3</th>\n",
       "      <td>0</td>\n",
       "      <td>0</td>\n",
       "      <td>0</td>\n",
       "      <td>0</td>\n",
       "      <td>0</td>\n",
       "      <td>0</td>\n",
       "      <td>0</td>\n",
       "      <td>0</td>\n",
       "      <td>0</td>\n",
       "      <td>0</td>\n",
       "      <td>...</td>\n",
       "      <td>0</td>\n",
       "      <td>0</td>\n",
       "      <td>0</td>\n",
       "      <td>0</td>\n",
       "      <td>0</td>\n",
       "      <td>0</td>\n",
       "      <td>0</td>\n",
       "      <td>0</td>\n",
       "      <td>0</td>\n",
       "      <td>1</td>\n",
       "    </tr>\n",
       "    <tr>\n",
       "      <th>4</th>\n",
       "      <td>0</td>\n",
       "      <td>0</td>\n",
       "      <td>0</td>\n",
       "      <td>0</td>\n",
       "      <td>0</td>\n",
       "      <td>0</td>\n",
       "      <td>0</td>\n",
       "      <td>0</td>\n",
       "      <td>0</td>\n",
       "      <td>0</td>\n",
       "      <td>...</td>\n",
       "      <td>0</td>\n",
       "      <td>0</td>\n",
       "      <td>0</td>\n",
       "      <td>0</td>\n",
       "      <td>0</td>\n",
       "      <td>0</td>\n",
       "      <td>0</td>\n",
       "      <td>0</td>\n",
       "      <td>0</td>\n",
       "      <td>1</td>\n",
       "    </tr>\n",
       "  </tbody>\n",
       "</table>\n",
       "<p>5 rows × 131 columns</p>\n",
       "</div>"
      ],
      "text/plain": [
       "    abdominal_pain   abnormal_menstruation   acidity   acute_liver_failure  \\\n",
       "0                0                       0         0                     0   \n",
       "1                0                       0         0                     0   \n",
       "2                0                       0         0                     0   \n",
       "3                0                       0         0                     0   \n",
       "4                0                       0         0                     0   \n",
       "\n",
       "    altered_sensorium   anxiety   back_pain   belly_pain   blackheads  \\\n",
       "0                   0         0           0            0            0   \n",
       "1                   0         0           0            0            0   \n",
       "2                   0         0           0            0            0   \n",
       "3                   0         0           0            0            0   \n",
       "4                   0         0           0            0            0   \n",
       "\n",
       "    bladder_discomfort  ...   watering_from_eyes   weakness_in_limbs  \\\n",
       "0                    0  ...                    0                   0   \n",
       "1                    0  ...                    0                   0   \n",
       "2                    0  ...                    0                   0   \n",
       "3                    0  ...                    0                   0   \n",
       "4                    0  ...                    0                   0   \n",
       "\n",
       "    weakness_of_one_body_side   weight_gain   weight_loss   yellow_crust_ooze  \\\n",
       "0                           0             0             0                   0   \n",
       "1                           0             0             0                   0   \n",
       "2                           0             0             0                   0   \n",
       "3                           0             0             0                   0   \n",
       "4                           0             0             0                   0   \n",
       "\n",
       "    yellow_urine   yellowing_of_eyes   yellowish_skin  itching  \n",
       "0              0                   0                0        1  \n",
       "1              0                   0                0        0  \n",
       "2              0                   0                0        1  \n",
       "3              0                   0                0        1  \n",
       "4              0                   0                0        1  \n",
       "\n",
       "[5 rows x 131 columns]"
      ]
     },
     "execution_count": 58,
     "metadata": {},
     "output_type": "execute_result"
    }
   ],
   "source": [
    "symptoms_encoded.head()"
   ]
  },
  {
   "cell_type": "code",
   "execution_count": 59,
   "id": "5f9d9ea7",
   "metadata": {
    "scrolled": false
   },
   "outputs": [
    {
     "name": "stdout",
     "output_type": "stream",
     "text": [
      "Missing in encoding: {'yellowish_skin', 'irregular_sugar_level', 'extra_marital_contacts', 'swollen_legs', 'indigestion', 'puffy_face_and_eyes', 'blackheads', 'fatigue', 'dizziness', 'redness_of_eyes', 'dark_urine', 'receiving_unsterile_injections', 'belly_pain', 'congestion', 'muscle_wasting', 'bruising', 'restlessness', 'polyuria', 'irritation_in_anus', 'weakness_of_one_body_side', 'anxiety', 'loss_of_smell', 'irritability', 'coma', 'fast_heart_rate', 'yellowing_of_eyes', 'yellow_crust_ooze', 'inflammatory_nails', 'chills', 'headache', 'phlegm', 'drying_and_tingling_lips', 'watering_from_eyes', 'hip_joint_pain', 'high_fever', 'palpitations', 'mild_fever', 'increased_appetite', 'stiff_neck', 'altered_sensorium', 'movement_stiffness', 'blood_in_sputum', 'blurred_and_distorted_vision', 'small_dents_in_nails', 'malaise', 'cough', 'sinus_pressure', 'muscle_pain', 'cramps', 'painful_walking', 'knee_pain', 'dischromic_patches', 'rusty_sputum', 'diarrhoea', 'stomach_pain', 'skin_rash', 'pain_during_bowel_movements', 'swollen_blood_vessels', 'loss_of_balance', 'weight_gain', 'swollen_extremeties', 'depression', 'throat_irritation', 'red_spots_over_body', 'shivering', 'fluid_overload', 'sweating', 'enlarged_thyroid', 'prominent_veins_on_calf', 'distention_of_abdomen', 'mood_swings', 'bladder_discomfort', 'obesity', 'weight_loss', 'silver_like_dusting', 'family_history', 'cold_hands_and_feets', 'dehydration', 'bloody_stool', 'chest_pain', 'muscle_weakness', 'acidity', 'swelling_joints', 'spotting_urination', 'runny_nose', 'lethargy', 'constipation', 'nodal_skin_eruptions', 'slurred_speech', 'receiving_blood_transfusion', 'continuous_sneezing', 'pain_in_anal_region', 'brittle_nails', 'breathlessness', 'swelling_of_stomach', 'swelled_lymph_nodes', 'mucoid_sputum', 'abnormal_menstruation', 'loss_of_appetite', 'unsteadiness', 'scurring', 'continuous_feel_of_urine', 'visual_disturbances', 'ulcers_on_tongue', 'nausea', 'passage_of_gases', 'internal_itching', 'patches_in_throat', 'foul_smell_of_urine', 'neck_pain', 'toxic_look_(typhos)', 'history_of_alcohol_consumption', 'red_sore_around_nose', 'vomiting', 'spinning_movements', 'pus_filled_pimples', 'skin_peeling', 'lack_of_concentration', 'back_pain', 'acute_liver_failure', 'excessive_hunger', 'sunken_eyes', 'joint_pain', 'pain_behind_the_eyes', 'abdominal_pain', 'yellow_urine', 'blister', 'weakness_in_limbs', 'stomach_bleeding', 'burning_micturition'}\n",
      "Extra in encoding: {' abnormal_menstruation', ' chest_pain', ' weakness_of_one_body_side', ' internal_itching', ' receiving_unsterile_injections', ' swelled_lymph_nodes', ' small_dents_in_nails', ' pain_behind_the_eyes', ' receiving_blood_transfusion', ' toxic_look_(typhos)', ' lethargy', ' redness_of_eyes', ' coma', ' muscle_weakness', ' depression', ' nodal_skin_eruptions', ' skin_peeling', ' dehydration', ' mood_swings', ' acidity', ' congestion', ' weight_loss', ' nausea', ' prominent_veins_on_calf', ' bruising', ' watering_from_eyes', ' hip_joint_pain', ' dischromic _patches', ' enlarged_thyroid', ' skin_rash', ' extra_marital_contacts', ' stomach_bleeding', ' patches_in_throat', ' dark_urine', ' spinning_movements', ' knee_pain', ' mucoid_sputum', ' irritation_in_anus', ' bloody_stool', ' painful_walking', ' continuous_sneezing', ' puffy_face_and_eyes', ' increased_appetite', ' burning_micturition', ' swollen_blood_vessels', ' excessive_hunger', ' dizziness', ' swollen_legs', ' blood_in_sputum', ' neck_pain', ' spotting_ urination', ' silver_like_dusting', ' continuous_feel_of_urine', ' muscle_pain', ' sinus_pressure', ' muscle_wasting', ' vomiting', ' irritability', ' inflammatory_nails', ' loss_of_smell', ' sunken_eyes', ' fatigue', ' restlessness', ' red_sore_around_nose', ' headache', ' palpitations', ' stiff_neck', ' throat_irritation', ' weakness_in_limbs', ' blackheads', ' history_of_alcohol_consumption', ' constipation', ' yellowish_skin', ' slurred_speech', ' runny_nose', ' loss_of_appetite', ' cramps', ' loss_of_balance', ' anxiety', ' yellow_crust_ooze', ' breathlessness', ' shivering', ' distention_of_abdomen', ' obesity', ' high_fever', ' fast_heart_rate', ' weight_gain', ' indigestion', ' mild_fever', ' scurring', ' red_spots_over_body', ' blurred_and_distorted_vision', ' acute_liver_failure', ' pus_filled_pimples', ' foul_smell_of urine', ' cough', ' polyuria', ' irregular_sugar_level', ' lack_of_concentration', ' chills', ' fluid_overload', ' bladder_discomfort', ' family_history', ' blister', ' altered_sensorium', ' yellow_urine', ' movement_stiffness', ' ulcers_on_tongue', ' unsteadiness', ' phlegm', ' swollen_extremeties', ' pain_in_anal_region', ' back_pain', ' visual_disturbances', ' drying_and_tingling_lips', ' passage_of_gases', ' joint_pain', ' swelling_of_stomach', ' sweating', ' rusty_sputum', ' stomach_pain', ' malaise', ' belly_pain', ' cold_hands_and_feets', ' yellowing_of_eyes', ' swelling_joints', ' brittle_nails', ' abdominal_pain', ' pain_during_bowel_movements', ' diarrhoea'}\n"
     ]
    }
   ],
   "source": [
    "# find missing symptom\n",
    "raw_symptoms_set = set(symptom_severity['Symptom'].unique())\n",
    "encoded_symptoms_set = set(symptoms_encoded.columns)\n",
    "\n",
    "# Find mismatches\n",
    "missing_in_encoding = raw_symptoms_set - encoded_symptoms_set\n",
    "extra_in_encoding   = encoded_symptoms_set - raw_symptoms_set\n",
    "\n",
    "print(\"Missing in encoding:\", missing_in_encoding)\n",
    "print(\"Extra in encoding:\", extra_in_encoding)"
   ]
  },
  {
   "cell_type": "code",
   "execution_count": 60,
   "id": "281f0b82",
   "metadata": {},
   "outputs": [],
   "source": [
    "import re\n",
    "def normalize_symptom_name(s: str) -> str:\n",
    "    \"\"\"\n",
    "    Normalize symptom strings to ensure consistency across files.\n",
    "    - Lowercase\n",
    "    - Replace spaces, hyphens with underscores\n",
    "    - Collapse multiple underscores\n",
    "    - Strip leading/trailing underscores\n",
    "    \"\"\"\n",
    "    s = s.strip().lower()\n",
    "    s = re.sub(r'[\\s\\-]+', '_', s)       # replace spaces and hyphens with underscores\n",
    "    s = re.sub(r'_+', '_', s)            # collapse multiple underscores\n",
    "    s = s.strip('_')                     # remove leading/trailing underscores\n",
    "    return s"
   ]
  },
  {
   "cell_type": "code",
   "execution_count": 61,
   "id": "012c2e44",
   "metadata": {},
   "outputs": [
    {
     "name": "stdout",
     "output_type": "stream",
     "text": [
      "After cleaning:\n",
      "Missing in encoding: set()\n",
      "Extra in encoding: set()\n"
     ]
    }
   ],
   "source": [
    "# clean both sources\n",
    "symptom_severity['Symptom'] = symptom_severity['Symptom'].apply(normalize_symptom_name)\n",
    "symptoms_encoded.columns = [normalize_symptom_name(c) for c in symptoms_encoded.columns]\n",
    "\n",
    "# sets for comparison\n",
    "raw_symptom_set = set(symptom_severity['Symptom'].unique()) - {'prognosis'}  # drop prognosis\n",
    "encoded_symptom_set = set(symptoms_encoded.columns)\n",
    "\n",
    "print(\"After cleaning:\")\n",
    "print(\"Missing in encoding:\", raw_symptom_set - encoded_symptom_set)\n",
    "print(\"Extra in encoding:\", encoded_symptom_set - raw_symptom_set)\n"
   ]
  },
  {
   "cell_type": "code",
   "execution_count": 67,
   "id": "4a035fc9",
   "metadata": {},
   "outputs": [
    {
     "name": "stdout",
     "output_type": "stream",
     "text": [
      "['abdominal_pain', 'abnormal_menstruation', 'acidity', 'acute_liver_failure', 'altered_sensorium', 'anxiety', 'back_pain', 'belly_pain', 'blackheads', 'bladder_discomfort', 'blister', 'blood_in_sputum', 'bloody_stool', 'blurred_and_distorted_vision', 'breathlessness', 'brittle_nails', 'bruising', 'burning_micturition', 'chest_pain', 'chills', 'cold_hands_and_feets', 'coma', 'congestion', 'constipation', 'continuous_feel_of_urine', 'continuous_sneezing', 'cough', 'cramps', 'dark_urine', 'dehydration', 'depression', 'diarrhoea', 'dischromic_patches', 'distention_of_abdomen', 'dizziness', 'drying_and_tingling_lips', 'enlarged_thyroid', 'excessive_hunger', 'extra_marital_contacts', 'family_history', 'fast_heart_rate', 'fatigue', 'fluid_overload', 'foul_smell_of_urine', 'headache', 'high_fever', 'hip_joint_pain', 'history_of_alcohol_consumption', 'increased_appetite', 'indigestion', 'inflammatory_nails', 'internal_itching', 'irregular_sugar_level', 'irritability', 'irritation_in_anus', 'joint_pain', 'knee_pain', 'lack_of_concentration', 'lethargy', 'loss_of_appetite', 'loss_of_balance', 'loss_of_smell', 'malaise', 'mild_fever', 'mood_swings', 'movement_stiffness', 'mucoid_sputum', 'muscle_pain', 'muscle_wasting', 'muscle_weakness', 'nausea', 'neck_pain', 'nodal_skin_eruptions', 'obesity', 'pain_behind_the_eyes', 'pain_during_bowel_movements', 'pain_in_anal_region', 'painful_walking', 'palpitations', 'passage_of_gases', 'patches_in_throat', 'phlegm', 'polyuria', 'prominent_veins_on_calf', 'puffy_face_and_eyes', 'pus_filled_pimples', 'receiving_blood_transfusion', 'receiving_unsterile_injections', 'red_sore_around_nose', 'red_spots_over_body', 'redness_of_eyes', 'restlessness', 'runny_nose', 'rusty_sputum', 'scurring', 'shivering', 'silver_like_dusting', 'sinus_pressure', 'skin_peeling', 'skin_rash', 'slurred_speech', 'small_dents_in_nails', 'spinning_movements', 'spotting_urination', 'stiff_neck', 'stomach_bleeding', 'stomach_pain', 'sunken_eyes', 'sweating', 'swelled_lymph_nodes', 'swelling_joints', 'swelling_of_stomach', 'swollen_blood_vessels', 'swollen_extremeties', 'swollen_legs', 'throat_irritation', 'toxic_look_(typhos)', 'ulcers_on_tongue', 'unsteadiness', 'visual_disturbances', 'vomiting', 'watering_from_eyes', 'weakness_in_limbs', 'weakness_of_one_body_side', 'weight_gain', 'weight_loss', 'yellow_crust_ooze', 'yellow_urine', 'yellowing_of_eyes', 'yellowish_skin', 'itching']\n"
     ]
    }
   ],
   "source": [
    "print(list(symptoms_encoded.columns))"
   ]
  },
  {
   "cell_type": "code",
   "execution_count": 76,
   "id": "f43a867a",
   "metadata": {},
   "outputs": [],
   "source": [
    "#encode values\n",
    "from sklearn.preprocessing import LabelEncoder\n",
    "\n",
    "# Target\n",
    "le = LabelEncoder()\n",
    "disease_encoded = le.fit_transform(disease_data[\"Disease\"])\n"
   ]
  },
  {
   "cell_type": "code",
   "execution_count": 75,
   "id": "93782943",
   "metadata": {},
   "outputs": [
    {
     "name": "stdout",
     "output_type": "stream",
     "text": [
      "[15 15 15 ... 38 35 27]\n"
     ]
    }
   ],
   "source": [
    "print(disease_encoded)"
   ]
  },
  {
   "cell_type": "code",
   "execution_count": 77,
   "id": "953e0166",
   "metadata": {},
   "outputs": [
    {
     "data": {
      "text/plain": [
       "['task3_models\\\\disease_encoder.joblib']"
      ]
     },
     "execution_count": 77,
     "metadata": {},
     "output_type": "execute_result"
    }
   ],
   "source": [
    "joblib.dump(le, 'task3_models\\disease_encoder.joblib')"
   ]
  },
  {
   "cell_type": "code",
   "execution_count": 25,
   "id": "47c70911",
   "metadata": {},
   "outputs": [
    {
     "data": {
      "text/html": [
       "<div>\n",
       "<style scoped>\n",
       "    .dataframe tbody tr th:only-of-type {\n",
       "        vertical-align: middle;\n",
       "    }\n",
       "\n",
       "    .dataframe tbody tr th {\n",
       "        vertical-align: top;\n",
       "    }\n",
       "\n",
       "    .dataframe thead th {\n",
       "        text-align: right;\n",
       "    }\n",
       "</style>\n",
       "<table border=\"1\" class=\"dataframe\">\n",
       "  <thead>\n",
       "    <tr style=\"text-align: right;\">\n",
       "      <th></th>\n",
       "      <th>Symptom</th>\n",
       "      <th>weight</th>\n",
       "    </tr>\n",
       "  </thead>\n",
       "  <tbody>\n",
       "    <tr>\n",
       "      <th>0</th>\n",
       "      <td>itching</td>\n",
       "      <td>1</td>\n",
       "    </tr>\n",
       "    <tr>\n",
       "      <th>1</th>\n",
       "      <td>skin_rash</td>\n",
       "      <td>3</td>\n",
       "    </tr>\n",
       "    <tr>\n",
       "      <th>2</th>\n",
       "      <td>nodal_skin_eruptions</td>\n",
       "      <td>4</td>\n",
       "    </tr>\n",
       "    <tr>\n",
       "      <th>3</th>\n",
       "      <td>continuous_sneezing</td>\n",
       "      <td>4</td>\n",
       "    </tr>\n",
       "    <tr>\n",
       "      <th>4</th>\n",
       "      <td>shivering</td>\n",
       "      <td>5</td>\n",
       "    </tr>\n",
       "  </tbody>\n",
       "</table>\n",
       "</div>"
      ],
      "text/plain": [
       "                Symptom  weight\n",
       "0               itching       1\n",
       "1             skin_rash       3\n",
       "2  nodal_skin_eruptions       4\n",
       "3   continuous_sneezing       4\n",
       "4             shivering       5"
      ]
     },
     "execution_count": 25,
     "metadata": {},
     "output_type": "execute_result"
    }
   ],
   "source": [
    "# check\n",
    "symptom_severity.head()"
   ]
  },
  {
   "cell_type": "markdown",
   "id": "8f23d25a",
   "metadata": {},
   "source": [
    "## Modelling"
   ]
  },
  {
   "cell_type": "code",
   "execution_count": 70,
   "id": "95274f59",
   "metadata": {},
   "outputs": [
    {
     "name": "stdout",
     "output_type": "stream",
     "text": [
      "Train shape: (3936, 131)\n",
      "Test shape: (984, 131)\n"
     ]
    }
   ],
   "source": [
    "from sklearn.model_selection import train_test_split\n",
    "from sklearn.ensemble import RandomForestClassifier\n",
    "\n",
    "symptoms_train, symptoms_test, disease_train, disease_test = train_test_split(symptoms_encoded, disease_encoded, test_size=0.2, stratify=disease_encoded, random_state=42)\n",
    "\n",
    "print(\"Train shape:\", symptoms_train.shape)\n",
    "print(\"Test shape:\", symptoms_test.shape)\n"
   ]
  },
  {
   "cell_type": "code",
   "execution_count": 71,
   "id": "cd3b582a",
   "metadata": {},
   "outputs": [
    {
     "name": "stdout",
     "output_type": "stream",
     "text": [
      "Test Accuracy: 1.0\n"
     ]
    }
   ],
   "source": [
    "\n",
    "clf = RandomForestClassifier(n_estimators=200, random_state=42)\n",
    "clf.fit(symptoms_train, disease_train)\n",
    "\n",
    "print(\"Test Accuracy:\", clf.score(symptoms_test, disease_test))"
   ]
  },
  {
   "cell_type": "code",
   "execution_count": 72,
   "id": "fe561d49",
   "metadata": {},
   "outputs": [
    {
     "name": "stdout",
     "output_type": "stream",
     "text": [
      "Train Accuracy: 1.0\n",
      "Test Accuracy: 1.0\n"
     ]
    }
   ],
   "source": [
    "train_acc = clf.score(symptoms_train, disease_train)\n",
    "test_acc = clf.score(symptoms_test, disease_test)\n",
    "\n",
    "print(\"Train Accuracy:\", train_acc)\n",
    "print(\"Test Accuracy:\", test_acc)\n"
   ]
  },
  {
   "cell_type": "code",
   "execution_count": 73,
   "id": "d1e367e6",
   "metadata": {
    "scrolled": false
   },
   "outputs": [
    {
     "data": {
      "image/png": "[encoded data removed]",
      "text/plain": [
       "<Figure size 640x480 with 1 Axes>"
      ]
     },
     "metadata": {},
     "output_type": "display_data"
    }
   ],
   "source": [
    "# hchecking for overfitting\n",
    "from sklearn.model_selection import learning_curve\n",
    "import matplotlib.pyplot as plt\n",
    "import numpy as np\n",
    "\n",
    "train_sizes, train_scores, test_scores = learning_curve(\n",
    "    clf, symptoms_encoded, disease_encoded, cv=5, n_jobs=-1,\n",
    "    train_sizes=np.linspace(0.1, 1.0, 5)\n",
    ")\n",
    "\n",
    "train_mean = train_scores.mean(axis=1)\n",
    "test_mean = test_scores.mean(axis=1)\n",
    "\n",
    "plt.plot(train_sizes, train_mean, label=\"Train\")\n",
    "plt.plot(train_sizes, test_mean, label=\"Test\")\n",
    "plt.xlabel(\"Training size\")\n",
    "plt.ylabel(\"Accuracy\")\n",
    "plt.legend()\n",
    "plt.show()\n"
   ]
  },
  {
   "cell_type": "code",
   "execution_count": 58,
   "id": "c3e0ab9f",
   "metadata": {},
   "outputs": [
    {
     "data": {
      "text/plain": [
       "['label_encoder.pkl']"
      ]
     },
     "execution_count": 58,
     "metadata": {},
     "output_type": "execute_result"
    }
   ],
   "source": [
    "# save model\n",
    "\n",
    "\n",
    "# Save model and supporting objects\n",
    "joblib.dump(clf, \"disease_classifier.pkl\")\n",
    "joblib.dump(all_symptoms, \"all_symptoms.pkl\")\n",
    "joblib.dump(le, \"label_encoder.pkl\")\n"
   ]
  },
  {
   "cell_type": "code",
   "execution_count": 13,
   "id": "6a72f44b",
   "metadata": {},
   "outputs": [],
   "source": [
    "#to load clf model\n",
    "# Load everything back\n",
    "clf = joblib.load(\"task3_models/disease_classifier.pkl\")\n",
    "all_symptoms = joblib.load(\"task3_models/all_symptoms.pkl\")\n",
    "le = joblib.load(r\"task3_models/symptom_encoder.joblib\")\n"
   ]
  },
  {
   "cell_type": "code",
   "execution_count": 43,
   "id": "b4cc8546",
   "metadata": {},
   "outputs": [
    {
     "name": "stdout",
     "output_type": "stream",
     "text": [
      "              precision    recall  f1-score   support\n",
      "\n",
      "           0       1.00      1.00      1.00        24\n",
      "           1       1.00      1.00      1.00        24\n",
      "           2       1.00      1.00      1.00        24\n",
      "           3       1.00      1.00      1.00        24\n",
      "           4       1.00      1.00      1.00        24\n",
      "           5       1.00      1.00      1.00        24\n",
      "           6       1.00      1.00      1.00        24\n",
      "           7       1.00      1.00      1.00        24\n",
      "           8       1.00      1.00      1.00        24\n",
      "           9       1.00      1.00      1.00        24\n",
      "          10       1.00      1.00      1.00        24\n",
      "          11       1.00      1.00      1.00        24\n",
      "          12       1.00      1.00      1.00        24\n",
      "          13       1.00      1.00      1.00        24\n",
      "          14       1.00      1.00      1.00        24\n",
      "          15       1.00      1.00      1.00        24\n",
      "          16       1.00      1.00      1.00        24\n",
      "          17       1.00      1.00      1.00        24\n",
      "          18       1.00      1.00      1.00        24\n",
      "          19       1.00      1.00      1.00        24\n",
      "          20       1.00      1.00      1.00        24\n",
      "          21       1.00      1.00      1.00        24\n",
      "          22       1.00      1.00      1.00        24\n",
      "          23       1.00      1.00      1.00        24\n",
      "          24       1.00      1.00      1.00        24\n",
      "          25       1.00      1.00      1.00        24\n",
      "          26       1.00      1.00      1.00        24\n",
      "          27       1.00      1.00      1.00        24\n",
      "          28       1.00      1.00      1.00        24\n",
      "          29       1.00      1.00      1.00        24\n",
      "          30       1.00      1.00      1.00        24\n",
      "          31       1.00      1.00      1.00        24\n",
      "          32       1.00      1.00      1.00        24\n",
      "          33       1.00      1.00      1.00        24\n",
      "          34       1.00      1.00      1.00        24\n",
      "          35       1.00      1.00      1.00        24\n",
      "          36       1.00      1.00      1.00        24\n",
      "          37       1.00      1.00      1.00        24\n",
      "          38       1.00      1.00      1.00        24\n",
      "          39       1.00      1.00      1.00        24\n",
      "          40       1.00      1.00      1.00        24\n",
      "\n",
      "    accuracy                           1.00       984\n",
      "   macro avg       1.00      1.00      1.00       984\n",
      "weighted avg       1.00      1.00      1.00       984\n",
      "\n",
      "[[24  0  0 ...  0  0  0]\n",
      " [ 0 24  0 ...  0  0  0]\n",
      " [ 0  0 24 ...  0  0  0]\n",
      " ...\n",
      " [ 0  0  0 ... 24  0  0]\n",
      " [ 0  0  0 ...  0 24  0]\n",
      " [ 0  0  0 ...  0  0 24]]\n"
     ]
    }
   ],
   "source": [
    "from sklearn.metrics import classification_report, confusion_matrix\n",
    "\n",
    "y_pred = clf.predict(symptoms_test)\n",
    "print(classification_report(disease_test, y_pred))\n",
    "print(confusion_matrix(disease_test, y_pred))\n"
   ]
  },
  {
   "cell_type": "code",
   "execution_count": 41,
   "id": "2065887f",
   "metadata": {},
   "outputs": [
    {
     "name": "stdout",
     "output_type": "stream",
     "text": [
      "|--- internal_itching <= 0.50\n",
      "|   |--- continuous_feel_of_urine <= 0.50\n",
      "|   |   |--- irritability <= 0.50\n",
      "|   |   |   |--- toxic_look_(typhos) <= 0.50\n",
      "|   |   |   |   |--- spotting_urination <= 0.50\n",
      "|   |   |   |   |   |--- increased_appetite <= 0.50\n",
      "|   |   |   |   |   |   |--- yellow_crust_ooze <= 0.50\n",
      "|   |   |   |   |   |   |   |--- pain_behind_the_eyes <= 0.50\n",
      "|   |   |   |   |   |   |   |   |--- fast_heart_rate <= 0.50\n",
      "|   |   |   |   |   |   |   |   |   |--- receiving_unsterile_injections <= 0.50\n",
      "|   |   |   |   |   |   |   |   |   |   |--- dischromic_patches <= 0.50\n",
      "|   |   |   |   |   |   |   |   |   |   |   |--- truncated branch of depth 34\n",
      "|   |   |   |   |   |   |   |   |   |   |--- dischromic_patches >  0.50\n",
      "|   |   |   |   |   |   |   |   |   |   |   |--- class: 15.0\n",
      "|   |   |   |   |   |   |   |   |   |--- receiving_unsterile_injections >  0.50\n",
      "|   |   |   |   |   |   |   |   |   |   |--- class: 19.0\n",
      "|   |   |   |   |   |   |   |   |--- fast_heart_rate >  0.50\n",
      "|   |   |   |   |   |   |   |   |   |--- class: 34.0\n",
      "|   |   |   |   |   |   |   |--- pain_behind_the_eyes >  0.50\n",
      "|   |   |   |   |   |   |   |   |--- class: 11.0\n",
      "|   |   |   |   |   |   |--- yellow_crust_ooze >  0.50\n",
      "|   |   |   |   |   |   |   |--- class: 27.0\n",
      "|   |   |   |   |   |--- increased_appetite >  0.50\n",
      "|   |   |   |   |   |   |--- class: 12.0\n",
      "|   |   |   |   |--- spotting_urination >  0.50\n",
      "|   |   |   |   |   |--- class: 14.0\n",
      "|   |   |   |--- toxic_look_(typhos) >  0.50\n",
      "|   |   |   |   |--- class: 37.0\n",
      "|   |   |--- irritability >  0.50\n",
      "|   |   |   |--- palpitations <= 0.50\n",
      "|   |   |   |   |--- excessive_hunger <= 0.50\n",
      "|   |   |   |   |   |--- enlarged_thyroid <= 0.50\n",
      "|   |   |   |   |   |   |--- abnormal_menstruation <= 0.50\n",
      "|   |   |   |   |   |   |   |--- class: 30.0\n",
      "|   |   |   |   |   |   |--- abnormal_menstruation >  0.50\n",
      "|   |   |   |   |   |   |   |--- class: 24.0\n",
      "|   |   |   |   |   |--- enlarged_thyroid >  0.50\n",
      "|   |   |   |   |   |   |--- class: 26.0\n",
      "|   |   |   |   |--- excessive_hunger >  0.50\n",
      "|   |   |   |   |   |--- sweating <= 0.50\n",
      "|   |   |   |   |   |   |--- restlessness <= 0.50\n",
      "|   |   |   |   |   |   |   |--- class: 30.0\n",
      "|   |   |   |   |   |   |--- restlessness >  0.50\n",
      "|   |   |   |   |   |   |   |--- class: 24.0\n",
      "|   |   |   |   |   |--- sweating >  0.50\n",
      "|   |   |   |   |   |   |--- class: 24.0\n",
      "|   |   |   |--- palpitations >  0.50\n",
      "|   |   |   |   |--- class: 25.0\n",
      "|   |--- continuous_feel_of_urine >  0.50\n",
      "|   |   |--- class: 38.0\n",
      "|--- internal_itching >  0.50\n",
      "|   |--- class: 33.0\n",
      "\n"
     ]
    }
   ],
   "source": [
    "from sklearn.ensemble import RandomForestClassifier\n",
    "from sklearn import tree\n",
    "estimator = clf.estimators_[0]\n",
    "\n",
    "# Print the tree structure in text\n",
    "print(tree.export_text(estimator, feature_names=list(symptoms_train.columns)))"
   ]
  },
  {
   "cell_type": "markdown",
   "id": "8c1e135d",
   "metadata": {},
   "source": [
    "# Use model"
   ]
  },
  {
   "cell_type": "code",
   "execution_count": 23,
   "id": "0c534c61",
   "metadata": {},
   "outputs": [],
   "source": [
    "import numpy as np\n",
    "\n",
    "def predict_disease(symptoms_list, model, all_symptoms, label_encoder, top_k=3):\n",
    "\n",
    "    input_vector = np.zeros(len(all_symptoms))\n",
    "    \n",
    "    for symptom in symptoms_list:\n",
    "        if symptom in all_symptoms:\n",
    "            idx = all_symptoms.index(symptom)\n",
    "            input_vector[idx] = 1\n",
    "    \n",
    "\n",
    "    input_vector = input_vector.reshape(1, -1)\n",
    "    \n",
    "\n",
    "    probs = model.predict_proba(input_vector)[0]\n",
    "    \n",
    "\n",
    "    top_indices = np.argsort(probs)[::-1][:top_k]\n",
    "\n",
    "    results = [(label_encoder.inverse_transform([i])[0], probs[i]) for i in top_indices]\n",
    "    \n",
    "    \n",
    "    \n",
    "    \n",
    "    return results\n"
   ]
  },
  {
   "cell_type": "code",
   "execution_count": 24,
   "id": "38d45de3",
   "metadata": {},
   "outputs": [],
   "source": [
    "def assess_urgency(user_symptoms, symptom_severity):\n",
    "    \"\"\"\n",
    "    Calculate urgency score based on symptom severity.\n",
    "    \"\"\"\n",
    "    # Create dictionary for quick lookup\n",
    "    severity_dict = dict(zip(symptom_severity['Symptom'], symptom_severity['weight']))\n",
    "\n",
    "    # Get severity scores for input symptoms\n",
    "    scores = [severity_dict[s] for s in user_symptoms if s in severity_dict]\n",
    "\n",
    "    if not scores:\n",
    "        return \"No matching symptoms found.\", 0\n",
    "\n",
    "    total_score = sum(scores)\n",
    "\n",
    "\n",
    "    return total_score\n",
    "\n",
    "\n",
    "\n",
    "# add function to pull disease description "
   ]
  },
  {
   "cell_type": "code",
   "execution_count": 25,
   "id": "81b46172",
   "metadata": {},
   "outputs": [],
   "source": [
    "def disease_urgency(results, total_score, urgent_diseases):\n",
    "    # take top probability disease \n",
    "    \n",
    "    top_disease = results[0][0]\n",
    "    \n",
    "    # Define thresholds\n",
    "    if (total_score <= 18.65) & (top_disease not in (urgent_diseases)):\n",
    "        urgency = \"Low urgency\"\n",
    "    elif (total_score <= 26.05) & (top_disease not in (urgent_diseases)):\n",
    "        urgency = \"Moderate urgency\"\n",
    "    elif total_score>= 26.05 or top_disease.isin(urgent_diseases):\n",
    "        urgency = \"High urgency\"\n",
    "        \n",
    "        \n",
    "    return urgency, total_score"
   ]
  },
  {
   "cell_type": "code",
   "execution_count": null,
   "id": "dbfebf0b",
   "metadata": {},
   "outputs": [],
   "source": []
  },
  {
   "cell_type": "code",
   "execution_count": null,
   "id": "5f2c852d",
   "metadata": {},
   "outputs": [],
   "source": []
  },
  {
   "cell_type": "code",
   "execution_count": 26,
   "id": "059740c5",
   "metadata": {
    "scrolled": true
   },
   "outputs": [
    {
     "name": "stdout",
     "output_type": "stream",
     "text": [
      "Predicted diseases:\n",
      "Fungal infection: 0.34\n",
      "Drug Reaction: 0.12\n",
      "Dimorphic hemmorhoids(piles): 0.08\n",
      "Urgency: Low urgency (Score = 14)\n"
     ]
    },
    {
     "name": "stderr",
     "output_type": "stream",
     "text": [
      "C:\\Users\\rhean\\anaconda3\\Lib\\site-packages\\sklearn\\base.py:464: UserWarning: X does not have valid feature names, but RandomForestClassifier was fitted with feature names\n",
      "  warnings.warn(\n"
     ]
    }
   ],
   "source": [
    "user_symptoms = [\"itching\", \"skin_rash\", \"nodal_skin_eruptions\", \"dischromic_patches\"]\n",
    "\n",
    "predictions = predict_disease(user_symptoms, clf, all_symptoms, le, top_k=3)\n",
    "score = assess_urgency(user_symptoms, symptom_severity)\n",
    "urgency,final_score= disease_urgency(predictions, score, urgent_diseases)\n",
    "print(\"Predicted diseases:\")\n",
    "for disease, prob in predictions:\n",
    "    print(f\"{disease}: {prob:.2f}\")\n",
    "\n",
    "print(f\"Urgency: {urgency} (Score = {final_score})\")\n"
   ]
  },
  {
   "cell_type": "code",
   "execution_count": 27,
   "id": "abe47fd1",
   "metadata": {},
   "outputs": [],
   "source": [
    "import numpy as np\n",
    "import pandas as pd\n",
    "\n",
    "def predict_disease(symptoms_list, model, all_symptoms, label_encoder, top_k=3):\n",
    "    input_vector = np.zeros(len(all_symptoms))\n",
    "  \n",
    "    for symptom in symptoms_list:\n",
    "        if symptom in all_symptoms:\n",
    "            idx = all_symptoms.index(symptom)\n",
    "            input_vector[idx] = 1\n",
    "    \n",
    "    input_vector = input_vector.reshape(1, -1)  \n",
    "    probs = model.predict_proba(input_vector)[0]  \n",
    "\n",
    "    \n",
    "    top_indices = np.argsort(probs)[::-1][:top_k]\n",
    "    results = [(label_encoder.inverse_transform([i])[0], probs[i]) for i in top_indices]\n",
    "    \n",
    "    return results\n",
    "\n",
    "\n",
    "def assess_urgency(user_symptoms, symptom_severity):\n",
    "    severity_dict = dict(zip(symptom_severity['Symptom'], symptom_severity['weight']))\n",
    "    \n",
    "    # Get severity scores for input symptoms\n",
    "    scores = [severity_dict[s] for s in user_symptoms if s in severity_dict]\n",
    "\n",
    "    if not scores:\n",
    "        return \"No matching symptoms found.\", 0\n",
    "\n",
    "    total_score = sum(scores)\n",
    "    return total_score\n",
    "\n",
    "\n",
    "\n",
    "\n"
   ]
  },
  {
   "cell_type": "code",
   "execution_count": 29,
   "id": "fe7f82a5",
   "metadata": {},
   "outputs": [],
   "source": [
    "# Function to classify disease urgency based on top predicted disease and symptom severity\n",
    "def disease_urgency(results, total_score, urgent_diseases, low_thresh=18.65, high_thresh=26.05):\n",
    "    top_disease = results[0][0]  # Extract disease name from top prediction\n",
    "    \n",
    "    # If disease is in the urgent diseases list, set as high urgency\n",
    "    if top_disease in urgent_diseases or total_score >= high_thresh:\n",
    "        return \"High urgency\", total_score\n",
    "    elif total_score >= low_thresh:\n",
    "        return \"Moderate urgency\", total_score\n",
    "    else:\n",
    "        return \"Low urgency\", total_score"
   ]
  },
  {
   "cell_type": "code",
   "execution_count": 30,
   "id": "4cce0e98",
   "metadata": {},
   "outputs": [],
   "source": [
    "# Main function to put it all together\n",
    "def triage_system(user_symptoms, clf, all_symptoms, le, symptom_severity, urgent_diseases, top_k=3):\n",
    "    # Predict diseases\n",
    "    predictions = predict_disease(user_symptoms, clf, all_symptoms, le, top_k)\n",
    "    \n",
    "    # Calculate severity score\n",
    "    score = assess_urgency(user_symptoms, symptom_severity)\n",
    "    \n",
    "    # Determine urgency level based on predicted disease and severity\n",
    "    urgency, final_score = disease_urgency(predictions, score, urgent_diseases)\n",
    "    \n",
    "    # Output results\n",
    "    print(\"Predicted diseases:\")\n",
    "    for disease, prob in predictions:\n",
    "        print(f\"{disease}: {prob:.2f}\")\n",
    "    \n",
    "    print(f\"Urgency: {urgency} (Score = {final_score})\")\n",
    "\n"
   ]
  },
  {
   "cell_type": "code",
   "execution_count": 31,
   "id": "23395350",
   "metadata": {},
   "outputs": [
    {
     "name": "stdout",
     "output_type": "stream",
     "text": [
      "Predicted diseases:\n",
      "Fungal infection: 0.34\n",
      "Drug Reaction: 0.12\n",
      "Dimorphic hemmorhoids(piles): 0.08\n",
      "Urgency: Low urgency (Score = 14)\n"
     ]
    },
    {
     "name": "stderr",
     "output_type": "stream",
     "text": [
      "C:\\Users\\rhean\\anaconda3\\Lib\\site-packages\\sklearn\\base.py:464: UserWarning: X does not have valid feature names, but RandomForestClassifier was fitted with feature names\n",
      "  warnings.warn(\n"
     ]
    }
   ],
   "source": [
    "# Example usage\n",
    "user_symptoms = [\"itching\", \"skin_rash\", \"nodal_skin_eruptions\", \"dischromic_patches\"]\n",
    "urgent_diseases = ['Heart attack', 'AIDS', 'Typhoid', 'Pneumonia']  # Example urgent diseases\n",
    "\n",
    "triage_system(user_symptoms, clf, all_symptoms, le, symptom_severity, urgent_diseases, top_k=3)"
   ]
  },
  {
   "cell_type": "markdown",
   "id": "73d4bcdd",
   "metadata": {},
   "source": [
    "# Streamlit "
   ]
  },
  {
   "cell_type": "code",
   "execution_count": null,
   "id": "99509025",
   "metadata": {},
   "outputs": [],
   "source": []
  },
  {
   "cell_type": "code",
   "execution_count": null,
   "id": "897b0908",
   "metadata": {},
   "outputs": [],
   "source": []
  },
  {
   "cell_type": "code",
   "execution_count": null,
   "id": "8876163e",
   "metadata": {},
   "outputs": [],
   "source": []
  },
  {
   "cell_type": "markdown",
   "id": "d46bcfd2",
   "metadata": {},
   "source": [
    "## Additional EDA"
   ]
  },
  {
   "cell_type": "code",
   "execution_count": 87,
   "id": "c36cfd00",
   "metadata": {
    "scrolled": true
   },
   "outputs": [
    {
     "name": "stdout",
     "output_type": "stream",
     "text": [
      "<class 'pandas.core.frame.DataFrame'>\n",
      "Int64Index: 131 entries, 0 to 131\n",
      "Data columns (total 2 columns):\n",
      " #   Column   Non-Null Count  Dtype \n",
      "---  ------   --------------  ----- \n",
      " 0   Symptom  131 non-null    object\n",
      " 1   weight   131 non-null    int64 \n",
      "dtypes: int64(1), object(1)\n",
      "memory usage: 3.1+ KB\n"
     ]
    }
   ],
   "source": [
    "symptom_severity.info()"
   ]
  },
  {
   "cell_type": "code",
   "execution_count": 88,
   "id": "63eb6788",
   "metadata": {},
   "outputs": [
    {
     "data": {
      "text/html": [
       "<div>\n",
       "<style scoped>\n",
       "    .dataframe tbody tr th:only-of-type {\n",
       "        vertical-align: middle;\n",
       "    }\n",
       "\n",
       "    .dataframe tbody tr th {\n",
       "        vertical-align: top;\n",
       "    }\n",
       "\n",
       "    .dataframe thead th {\n",
       "        text-align: right;\n",
       "    }\n",
       "</style>\n",
       "<table border=\"1\" class=\"dataframe\">\n",
       "  <thead>\n",
       "    <tr style=\"text-align: right;\">\n",
       "      <th></th>\n",
       "      <th>abdominal_pain</th>\n",
       "      <th>abnormal_menstruation</th>\n",
       "      <th>acidity</th>\n",
       "      <th>acute_liver_failure</th>\n",
       "      <th>altered_sensorium</th>\n",
       "      <th>anxiety</th>\n",
       "      <th>back_pain</th>\n",
       "      <th>belly_pain</th>\n",
       "      <th>blackheads</th>\n",
       "      <th>bladder_discomfort</th>\n",
       "      <th>...</th>\n",
       "      <th>watering_from_eyes</th>\n",
       "      <th>weakness_in_limbs</th>\n",
       "      <th>weakness_of_one_body_side</th>\n",
       "      <th>weight_gain</th>\n",
       "      <th>weight_loss</th>\n",
       "      <th>yellow_crust_ooze</th>\n",
       "      <th>yellow_urine</th>\n",
       "      <th>yellowing_of_eyes</th>\n",
       "      <th>yellowish_skin</th>\n",
       "      <th>itching</th>\n",
       "    </tr>\n",
       "  </thead>\n",
       "  <tbody>\n",
       "    <tr>\n",
       "      <th>0</th>\n",
       "      <td>0</td>\n",
       "      <td>0</td>\n",
       "      <td>0</td>\n",
       "      <td>0</td>\n",
       "      <td>0</td>\n",
       "      <td>0</td>\n",
       "      <td>0</td>\n",
       "      <td>0</td>\n",
       "      <td>0</td>\n",
       "      <td>0</td>\n",
       "      <td>...</td>\n",
       "      <td>0</td>\n",
       "      <td>0</td>\n",
       "      <td>0</td>\n",
       "      <td>0</td>\n",
       "      <td>0</td>\n",
       "      <td>0</td>\n",
       "      <td>0</td>\n",
       "      <td>0</td>\n",
       "      <td>0</td>\n",
       "      <td>1</td>\n",
       "    </tr>\n",
       "    <tr>\n",
       "      <th>1</th>\n",
       "      <td>0</td>\n",
       "      <td>0</td>\n",
       "      <td>0</td>\n",
       "      <td>0</td>\n",
       "      <td>0</td>\n",
       "      <td>0</td>\n",
       "      <td>0</td>\n",
       "      <td>0</td>\n",
       "      <td>0</td>\n",
       "      <td>0</td>\n",
       "      <td>...</td>\n",
       "      <td>0</td>\n",
       "      <td>0</td>\n",
       "      <td>0</td>\n",
       "      <td>0</td>\n",
       "      <td>0</td>\n",
       "      <td>0</td>\n",
       "      <td>0</td>\n",
       "      <td>0</td>\n",
       "      <td>0</td>\n",
       "      <td>0</td>\n",
       "    </tr>\n",
       "    <tr>\n",
       "      <th>2</th>\n",
       "      <td>0</td>\n",
       "      <td>0</td>\n",
       "      <td>0</td>\n",
       "      <td>0</td>\n",
       "      <td>0</td>\n",
       "      <td>0</td>\n",
       "      <td>0</td>\n",
       "      <td>0</td>\n",
       "      <td>0</td>\n",
       "      <td>0</td>\n",
       "      <td>...</td>\n",
       "      <td>0</td>\n",
       "      <td>0</td>\n",
       "      <td>0</td>\n",
       "      <td>0</td>\n",
       "      <td>0</td>\n",
       "      <td>0</td>\n",
       "      <td>0</td>\n",
       "      <td>0</td>\n",
       "      <td>0</td>\n",
       "      <td>1</td>\n",
       "    </tr>\n",
       "    <tr>\n",
       "      <th>3</th>\n",
       "      <td>0</td>\n",
       "      <td>0</td>\n",
       "      <td>0</td>\n",
       "      <td>0</td>\n",
       "      <td>0</td>\n",
       "      <td>0</td>\n",
       "      <td>0</td>\n",
       "      <td>0</td>\n",
       "      <td>0</td>\n",
       "      <td>0</td>\n",
       "      <td>...</td>\n",
       "      <td>0</td>\n",
       "      <td>0</td>\n",
       "      <td>0</td>\n",
       "      <td>0</td>\n",
       "      <td>0</td>\n",
       "      <td>0</td>\n",
       "      <td>0</td>\n",
       "      <td>0</td>\n",
       "      <td>0</td>\n",
       "      <td>1</td>\n",
       "    </tr>\n",
       "    <tr>\n",
       "      <th>4</th>\n",
       "      <td>0</td>\n",
       "      <td>0</td>\n",
       "      <td>0</td>\n",
       "      <td>0</td>\n",
       "      <td>0</td>\n",
       "      <td>0</td>\n",
       "      <td>0</td>\n",
       "      <td>0</td>\n",
       "      <td>0</td>\n",
       "      <td>0</td>\n",
       "      <td>...</td>\n",
       "      <td>0</td>\n",
       "      <td>0</td>\n",
       "      <td>0</td>\n",
       "      <td>0</td>\n",
       "      <td>0</td>\n",
       "      <td>0</td>\n",
       "      <td>0</td>\n",
       "      <td>0</td>\n",
       "      <td>0</td>\n",
       "      <td>1</td>\n",
       "    </tr>\n",
       "  </tbody>\n",
       "</table>\n",
       "<p>5 rows × 131 columns</p>\n",
       "</div>"
      ],
      "text/plain": [
       "   abdominal_pain  abnormal_menstruation  acidity  acute_liver_failure  \\\n",
       "0               0                      0        0                    0   \n",
       "1               0                      0        0                    0   \n",
       "2               0                      0        0                    0   \n",
       "3               0                      0        0                    0   \n",
       "4               0                      0        0                    0   \n",
       "\n",
       "   altered_sensorium  anxiety  back_pain  belly_pain  blackheads  \\\n",
       "0                  0        0          0           0           0   \n",
       "1                  0        0          0           0           0   \n",
       "2                  0        0          0           0           0   \n",
       "3                  0        0          0           0           0   \n",
       "4                  0        0          0           0           0   \n",
       "\n",
       "   bladder_discomfort  ...  watering_from_eyes  weakness_in_limbs  \\\n",
       "0                   0  ...                   0                  0   \n",
       "1                   0  ...                   0                  0   \n",
       "2                   0  ...                   0                  0   \n",
       "3                   0  ...                   0                  0   \n",
       "4                   0  ...                   0                  0   \n",
       "\n",
       "   weakness_of_one_body_side  weight_gain  weight_loss  yellow_crust_ooze  \\\n",
       "0                          0            0            0                  0   \n",
       "1                          0            0            0                  0   \n",
       "2                          0            0            0                  0   \n",
       "3                          0            0            0                  0   \n",
       "4                          0            0            0                  0   \n",
       "\n",
       "   yellow_urine  yellowing_of_eyes  yellowish_skin  itching  \n",
       "0             0                  0               0        1  \n",
       "1             0                  0               0        0  \n",
       "2             0                  0               0        1  \n",
       "3             0                  0               0        1  \n",
       "4             0                  0               0        1  \n",
       "\n",
       "[5 rows x 131 columns]"
      ]
     },
     "execution_count": 88,
     "metadata": {},
     "output_type": "execute_result"
    }
   ],
   "source": [
    "symptoms_encoded.head()"
   ]
  },
  {
   "cell_type": "code",
   "execution_count": 30,
   "id": "1a5863bf",
   "metadata": {},
   "outputs": [],
   "source": [
    "# Sort symptom severity alphabetically\n",
    "symptom_severity_sorted = symptom_severity[symptom_severity['Symptom']!='prognosis'].sort_values(\"Symptom\")\n",
    "\n",
    "# Ensure encoded columns match order\n",
    "symptoms_encoded_Ordered = symptoms_encoded[symptom_severity_sorted[\"Symptom\"]]"
   ]
  },
  {
   "cell_type": "code",
   "execution_count": 31,
   "id": "d6f23e13",
   "metadata": {},
   "outputs": [
    {
     "data": {
      "text/plain": [
       "(131,)"
      ]
     },
     "execution_count": 31,
     "metadata": {},
     "output_type": "execute_result"
    }
   ],
   "source": [
    "weights = symptom_severity_sorted[\"weight\"].values  # shape (131,)\n",
    "weights.shape"
   ]
  },
  {
   "cell_type": "code",
   "execution_count": 32,
   "id": "9f34ace0",
   "metadata": {},
   "outputs": [],
   "source": [
    "# symptoms_encoded: (4920, 131)\n",
    "# weights: (131,)\n",
    "# Result: (4920,) → severity score per row\n",
    "severity_scores = symptoms_encoded.values.dot(weights)\n"
   ]
  },
  {
   "cell_type": "code",
   "execution_count": 33,
   "id": "9d6e0260",
   "metadata": {},
   "outputs": [],
   "source": [
    "disease_data[\"severity_score\"] = severity_scores\n",
    "disease_severity = disease_data.groupby(\"Disease\")[\"severity_score\"].mean().reset_index()\n"
   ]
  },
  {
   "cell_type": "code",
   "execution_count": 34,
   "id": "dd8e8cae",
   "metadata": {},
   "outputs": [
    {
     "name": "stdout",
     "output_type": "stream",
     "text": [
      "                                    Disease  severity_score\n",
      "0   (vertigo) Paroymsal  Positional Vertigo           17.00\n",
      "1                                      AIDS           17.45\n",
      "2                                      Acne           12.75\n",
      "3                       Alcoholic hepatitis           29.45\n",
      "4                                   Allergy           12.60\n",
      "5                                 Arthritis           22.80\n",
      "6                          Bronchial Asthma           27.15\n",
      "7                      Cervical spondylosis           18.65\n",
      "8                               Chicken pox           37.30\n",
      "9                       Chronic cholestasis           20.90\n",
      "10                              Common Cold           70.45\n",
      "11                                   Dengue           42.50\n",
      "12                                Diabetes            41.35\n",
      "13             Dimorphic hemmorhoids(piles)           22.80\n",
      "14                            Drug Reaction           21.75\n",
      "15                         Fungal infection           15.30\n",
      "16                                     GERD           26.05\n",
      "17                          Gastroenteritis           16.50\n",
      "18                             Heart attack           15.65\n",
      "19                              Hepatitis B           39.65\n",
      "20                              Hepatitis C           19.75\n",
      "21                              Hepatitis D           26.60\n",
      "22                              Hepatitis E           50.45\n",
      "23                            Hypertension            19.25\n",
      "24                          Hyperthyroidism           44.25\n",
      "25                             Hypoglycemia           37.60\n",
      "26                           Hypothyroidism           56.25\n",
      "27                                 Impetigo           17.35\n",
      "28                                 Jaundice           30.40\n",
      "29                                  Malaria           29.35\n",
      "30                                 Migraine           33.25\n",
      "31                          Osteoarthristis           21.85\n",
      "32             Paralysis (brain hemorrhage)           13.60\n",
      "33                      Peptic ulcer diseae           20.55\n",
      "34                                Pneumonia           49.30\n",
      "35                                Psoriasis           18.05\n",
      "36                             Tuberculosis           65.45\n",
      "37                                  Typhoid           42.50\n",
      "38                  Urinary tract infection           19.15\n",
      "39                           Varicose veins           30.05\n",
      "40                              hepatitis A           38.70\n"
     ]
    }
   ],
   "source": [
    "print(disease_severity)"
   ]
  },
  {
   "cell_type": "code",
   "execution_count": 35,
   "id": "e22cef2d",
   "metadata": {},
   "outputs": [
    {
     "data": {
      "text/html": [
       "<div>\n",
       "<style scoped>\n",
       "    .dataframe tbody tr th:only-of-type {\n",
       "        vertical-align: middle;\n",
       "    }\n",
       "\n",
       "    .dataframe tbody tr th {\n",
       "        vertical-align: top;\n",
       "    }\n",
       "\n",
       "    .dataframe thead th {\n",
       "        text-align: right;\n",
       "    }\n",
       "</style>\n",
       "<table border=\"1\" class=\"dataframe\">\n",
       "  <thead>\n",
       "    <tr style=\"text-align: right;\">\n",
       "      <th></th>\n",
       "      <th>severity_score</th>\n",
       "    </tr>\n",
       "  </thead>\n",
       "  <tbody>\n",
       "    <tr>\n",
       "      <th>count</th>\n",
       "      <td>41.000000</td>\n",
       "    </tr>\n",
       "    <tr>\n",
       "      <th>mean</th>\n",
       "      <td>29.554878</td>\n",
       "    </tr>\n",
       "    <tr>\n",
       "      <th>std</th>\n",
       "      <td>14.418598</td>\n",
       "    </tr>\n",
       "    <tr>\n",
       "      <th>min</th>\n",
       "      <td>12.600000</td>\n",
       "    </tr>\n",
       "    <tr>\n",
       "      <th>25%</th>\n",
       "      <td>18.650000</td>\n",
       "    </tr>\n",
       "    <tr>\n",
       "      <th>50%</th>\n",
       "      <td>26.050000</td>\n",
       "    </tr>\n",
       "    <tr>\n",
       "      <th>75%</th>\n",
       "      <td>38.700000</td>\n",
       "    </tr>\n",
       "    <tr>\n",
       "      <th>max</th>\n",
       "      <td>70.450000</td>\n",
       "    </tr>\n",
       "  </tbody>\n",
       "</table>\n",
       "</div>"
      ],
      "text/plain": [
       "       severity_score\n",
       "count       41.000000\n",
       "mean        29.554878\n",
       "std         14.418598\n",
       "min         12.600000\n",
       "25%         18.650000\n",
       "50%         26.050000\n",
       "75%         38.700000\n",
       "max         70.450000"
      ]
     },
     "execution_count": 35,
     "metadata": {},
     "output_type": "execute_result"
    }
   ],
   "source": [
    "disease_severity.describe()"
   ]
  },
  {
   "cell_type": "code",
   "execution_count": 97,
   "id": "699fd89c",
   "metadata": {},
   "outputs": [
    {
     "data": {
      "image/png": "[encoded data removed]",
      "text/plain": [
       "<Figure size 640x480 with 1 Axes>"
      ]
     },
     "metadata": {},
     "output_type": "display_data"
    }
   ],
   "source": [
    "import matplotlib.pyplot as plt\n",
    "plt.hist(disease_severity[\"severity_score\"], bins=20)\n",
    "plt.xlabel(\"Average Severity Score per Disease\")\n",
    "plt.ylabel(\"Number of Diseases\")\n",
    "plt.title(\"Distribution of Disease Severity Scores\")\n",
    "plt.show()\n"
   ]
  }
 ],
 "metadata": {
  "kernelspec": {
   "display_name": "Python 3 (ipykernel)",
   "language": "python",
   "name": "python3"
  },
  "language_info": {
   "codemirror_mode": {
    "name": "ipython",
    "version": 3
   },
   "file_extension": ".py",
   "mimetype": "text/x-python",
   "name": "python",
   "nbconvert_exporter": "python",
   "pygments_lexer": "ipython3",
   "version": "3.11.4"
  }
 },
 "nbformat": 4,
 "nbformat_minor": 5
}
